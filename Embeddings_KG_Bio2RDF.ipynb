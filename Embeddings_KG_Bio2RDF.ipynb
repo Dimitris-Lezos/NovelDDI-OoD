{
 "cells": [
  {
   "cell_type": "markdown",
   "id": "7b37d784",
   "metadata": {},
   "source": [
    "### Use Embeddings extracted from Bio2RDF for Drugs"
   ]
  },
  {
   "cell_type": "code",
   "execution_count": 1,
   "id": "8bde88d1",
   "metadata": {},
   "outputs": [
    {
     "name": "stdout",
     "output_type": "stream",
     "text": [
      "Defaulting to user installation because normal site-packages is not writeable\n",
      "Requirement already satisfied: progressbar2 in c:\\users\\dlezo\\appdata\\roaming\\python\\python311\\site-packages (4.5.0)\n",
      "Requirement already satisfied: python-utils>=3.8.1 in c:\\users\\dlezo\\appdata\\roaming\\python\\python311\\site-packages (from progressbar2) (3.9.1)\n",
      "Requirement already satisfied: typing_extensions>3.10.0.2 in c:\\software\\anaconda3\\lib\\site-packages (from python-utils>=3.8.1->progressbar2) (4.7.1)\n"
     ]
    }
   ],
   "source": [
    "!pip install progressbar2"
   ]
  },
  {
   "cell_type": "code",
   "execution_count": 2,
   "id": "4e218854",
   "metadata": {},
   "outputs": [
    {
     "name": "stderr",
     "output_type": "stream",
     "text": [
      "C:\\Users\\dlezo\\AppData\\Roaming\\Python\\Python311\\site-packages\\pandas\\core\\arrays\\masked.py:60: UserWarning: Pandas requires version '1.3.6' or newer of 'bottleneck' (version '1.3.5' currently installed).\n",
      "  from pandas.core import (\n"
     ]
    }
   ],
   "source": [
    "import pandas as pd\n",
    "import pickle\n",
    "import numpy as np\n",
    "import torch\n",
    "from progressbar import ProgressBar"
   ]
  },
  {
   "cell_type": "markdown",
   "id": "da317e6d",
   "metadata": {},
   "source": [
    "#### Load the Drugs common names from DrugBank"
   ]
  },
  {
   "cell_type": "code",
   "execution_count": 3,
   "id": "a4f83382",
   "metadata": {},
   "outputs": [],
   "source": [
    "with open('./Data/rx_norm_to_db.pkl', 'rb') as file:\n",
    "    rx_norm_to_db = pickle.load(file)"
   ]
  },
  {
   "cell_type": "markdown",
   "id": "8ce219dc",
   "metadata": {},
   "source": [
    "#### Load the embeddings file"
   ]
  },
  {
   "cell_type": "code",
   "execution_count": 4,
   "id": "ca22e624",
   "metadata": {},
   "outputs": [
    {
     "data": {
      "text/html": [
       "<div>\n",
       "<style scoped>\n",
       "    .dataframe tbody tr th:only-of-type {\n",
       "        vertical-align: middle;\n",
       "    }\n",
       "\n",
       "    .dataframe tbody tr th {\n",
       "        vertical-align: top;\n",
       "    }\n",
       "\n",
       "    .dataframe thead th {\n",
       "        text-align: right;\n",
       "    }\n",
       "</style>\n",
       "<table border=\"1\" class=\"dataframe\">\n",
       "  <thead>\n",
       "    <tr style=\"text-align: right;\">\n",
       "      <th></th>\n",
       "      <th>DB</th>\n",
       "      <th>feature0</th>\n",
       "      <th>feature1</th>\n",
       "      <th>feature2</th>\n",
       "      <th>feature3</th>\n",
       "      <th>feature4</th>\n",
       "      <th>feature5</th>\n",
       "      <th>feature6</th>\n",
       "      <th>feature7</th>\n",
       "      <th>feature8</th>\n",
       "      <th>...</th>\n",
       "      <th>feature190</th>\n",
       "      <th>feature191</th>\n",
       "      <th>feature192</th>\n",
       "      <th>feature193</th>\n",
       "      <th>feature194</th>\n",
       "      <th>feature195</th>\n",
       "      <th>feature196</th>\n",
       "      <th>feature197</th>\n",
       "      <th>feature198</th>\n",
       "      <th>feature199</th>\n",
       "    </tr>\n",
       "  </thead>\n",
       "  <tbody>\n",
       "    <tr>\n",
       "      <th>0</th>\n",
       "      <td>DB00142</td>\n",
       "      <td>0.596122</td>\n",
       "      <td>-0.561010</td>\n",
       "      <td>1.195846</td>\n",
       "      <td>-0.848914</td>\n",
       "      <td>0.682194</td>\n",
       "      <td>0.837945</td>\n",
       "      <td>0.328771</td>\n",
       "      <td>-1.415323</td>\n",
       "      <td>0.520460</td>\n",
       "      <td>...</td>\n",
       "      <td>-0.117932</td>\n",
       "      <td>0.937970</td>\n",
       "      <td>0.403538</td>\n",
       "      <td>0.334809</td>\n",
       "      <td>0.204034</td>\n",
       "      <td>-1.107825</td>\n",
       "      <td>0.523416</td>\n",
       "      <td>-0.414221</td>\n",
       "      <td>-0.214047</td>\n",
       "      <td>0.376912</td>\n",
       "    </tr>\n",
       "    <tr>\n",
       "      <th>1</th>\n",
       "      <td>DB00130</td>\n",
       "      <td>-0.686141</td>\n",
       "      <td>0.348200</td>\n",
       "      <td>0.163095</td>\n",
       "      <td>-1.113229</td>\n",
       "      <td>0.433326</td>\n",
       "      <td>0.959762</td>\n",
       "      <td>0.224798</td>\n",
       "      <td>-1.213323</td>\n",
       "      <td>0.312421</td>\n",
       "      <td>...</td>\n",
       "      <td>0.493890</td>\n",
       "      <td>0.797126</td>\n",
       "      <td>0.930760</td>\n",
       "      <td>1.718329</td>\n",
       "      <td>0.105792</td>\n",
       "      <td>-1.058102</td>\n",
       "      <td>0.416409</td>\n",
       "      <td>0.380049</td>\n",
       "      <td>-0.423195</td>\n",
       "      <td>1.282005</td>\n",
       "    </tr>\n",
       "    <tr>\n",
       "      <th>2</th>\n",
       "      <td>DB00126</td>\n",
       "      <td>-0.057253</td>\n",
       "      <td>-0.029533</td>\n",
       "      <td>-0.920006</td>\n",
       "      <td>-0.581274</td>\n",
       "      <td>0.456974</td>\n",
       "      <td>0.034768</td>\n",
       "      <td>-0.012655</td>\n",
       "      <td>-0.330921</td>\n",
       "      <td>-0.373522</td>\n",
       "      <td>...</td>\n",
       "      <td>-0.310304</td>\n",
       "      <td>1.728169</td>\n",
       "      <td>-0.864270</td>\n",
       "      <td>1.037250</td>\n",
       "      <td>-0.135598</td>\n",
       "      <td>-1.372231</td>\n",
       "      <td>1.117598</td>\n",
       "      <td>0.610883</td>\n",
       "      <td>-0.288994</td>\n",
       "      <td>-0.146524</td>\n",
       "    </tr>\n",
       "    <tr>\n",
       "      <th>3</th>\n",
       "      <td>DB00134</td>\n",
       "      <td>0.284603</td>\n",
       "      <td>-0.516267</td>\n",
       "      <td>0.764172</td>\n",
       "      <td>-1.363171</td>\n",
       "      <td>-0.207583</td>\n",
       "      <td>0.815897</td>\n",
       "      <td>0.609548</td>\n",
       "      <td>-1.594437</td>\n",
       "      <td>0.922312</td>\n",
       "      <td>...</td>\n",
       "      <td>0.416226</td>\n",
       "      <td>0.431215</td>\n",
       "      <td>0.035447</td>\n",
       "      <td>1.137347</td>\n",
       "      <td>0.575587</td>\n",
       "      <td>-0.850762</td>\n",
       "      <td>0.456986</td>\n",
       "      <td>0.366332</td>\n",
       "      <td>-0.546449</td>\n",
       "      <td>0.759064</td>\n",
       "    </tr>\n",
       "    <tr>\n",
       "      <th>4</th>\n",
       "      <td>DB00150</td>\n",
       "      <td>0.904884</td>\n",
       "      <td>-0.207666</td>\n",
       "      <td>-0.371477</td>\n",
       "      <td>-0.314093</td>\n",
       "      <td>-0.404803</td>\n",
       "      <td>0.998473</td>\n",
       "      <td>0.529165</td>\n",
       "      <td>-1.367542</td>\n",
       "      <td>0.888355</td>\n",
       "      <td>...</td>\n",
       "      <td>-0.052134</td>\n",
       "      <td>0.810354</td>\n",
       "      <td>0.175572</td>\n",
       "      <td>1.083338</td>\n",
       "      <td>-0.462010</td>\n",
       "      <td>-1.330534</td>\n",
       "      <td>0.251962</td>\n",
       "      <td>0.201748</td>\n",
       "      <td>0.375982</td>\n",
       "      <td>-0.124131</td>\n",
       "    </tr>\n",
       "  </tbody>\n",
       "</table>\n",
       "<p>5 rows × 201 columns</p>\n",
       "</div>"
      ],
      "text/plain": [
       "        DB  feature0  feature1  feature2  feature3  feature4  feature5  \\\n",
       "0  DB00142  0.596122 -0.561010  1.195846 -0.848914  0.682194  0.837945   \n",
       "1  DB00130 -0.686141  0.348200  0.163095 -1.113229  0.433326  0.959762   \n",
       "2  DB00126 -0.057253 -0.029533 -0.920006 -0.581274  0.456974  0.034768   \n",
       "3  DB00134  0.284603 -0.516267  0.764172 -1.363171 -0.207583  0.815897   \n",
       "4  DB00150  0.904884 -0.207666 -0.371477 -0.314093 -0.404803  0.998473   \n",
       "\n",
       "   feature6  feature7  feature8  ...  feature190  feature191  feature192  \\\n",
       "0  0.328771 -1.415323  0.520460  ...   -0.117932    0.937970    0.403538   \n",
       "1  0.224798 -1.213323  0.312421  ...    0.493890    0.797126    0.930760   \n",
       "2 -0.012655 -0.330921 -0.373522  ...   -0.310304    1.728169   -0.864270   \n",
       "3  0.609548 -1.594437  0.922312  ...    0.416226    0.431215    0.035447   \n",
       "4  0.529165 -1.367542  0.888355  ...   -0.052134    0.810354    0.175572   \n",
       "\n",
       "   feature193  feature194  feature195  feature196  feature197  feature198  \\\n",
       "0    0.334809    0.204034   -1.107825    0.523416   -0.414221   -0.214047   \n",
       "1    1.718329    0.105792   -1.058102    0.416409    0.380049   -0.423195   \n",
       "2    1.037250   -0.135598   -1.372231    1.117598    0.610883   -0.288994   \n",
       "3    1.137347    0.575587   -0.850762    0.456986    0.366332   -0.546449   \n",
       "4    1.083338   -0.462010   -1.330534    0.251962    0.201748    0.375982   \n",
       "\n",
       "   feature199  \n",
       "0    0.376912  \n",
       "1    1.282005  \n",
       "2   -0.146524  \n",
       "3    0.759064  \n",
       "4   -0.124131  \n",
       "\n",
       "[5 rows x 201 columns]"
      ]
     },
     "execution_count": 4,
     "metadata": {},
     "output_type": "execute_result"
    }
   ],
   "source": [
    "kg_embeddings = pd.read_csv(\"./Data/Embeddings/Entity2Vec_sg_200_5_5_15_2_500_d5_uniform.txt\")\n",
    "kg_embeddings.head()"
   ]
  },
  {
   "cell_type": "markdown",
   "id": "8a8bd574",
   "metadata": {},
   "source": [
    "#### Get the embedding from Bio2RDF with RDF2Vec & SkipGram"
   ]
  },
  {
   "cell_type": "code",
   "execution_count": 5,
   "id": "e000e0ca",
   "metadata": {},
   "outputs": [
    {
     "name": "stderr",
     "output_type": "stream",
     "text": [
      "\u001b[38;2;0;255;0m100%\u001b[39m \u001b[38;2;0;255;0m(100 of 100)\u001b[39m |######################| Elapsed Time: 0:00:00 Time:  0:00:000000\n"
     ]
    }
   ],
   "source": [
    "embeddings = {}\n",
    "i = 0\n",
    "step = len(rx_norm_to_db.keys())//100\n",
    "bar = ProgressBar(max_value=100)\n",
    "for rx_norm_id in rx_norm_to_db.keys():\n",
    "    if i%step==0:\n",
    "        bar.next()\n",
    "    output_embedding = torch.from_numpy(np.array(\n",
    "        kg_embeddings[kg_embeddings['DB'] == rx_norm_to_db[rx_norm_id]].iloc[0]['feature0':'feature199'].values, dtype=np.float64))\n",
    "    embeddings[rx_norm_id] = output_embedding\n",
    "    i += 1\n",
    "bar.finish()"
   ]
  },
  {
   "cell_type": "code",
   "execution_count": 6,
   "id": "f606224b",
   "metadata": {},
   "outputs": [],
   "source": [
    "# Get the embeddings in a list\n",
    "embeddings768 = []\n",
    "for rx_norm_id in rx_norm_to_db.keys():\n",
    "    embeddings768.append(embeddings[rx_norm_id].detach().numpy())\n",
    "embeddings768 = np.array(embeddings768)"
   ]
  },
  {
   "cell_type": "markdown",
   "id": "b46c02f2",
   "metadata": {},
   "source": [
    "#### Reduce the embeddings dimensionality with PCA"
   ]
  },
  {
   "cell_type": "code",
   "execution_count": 7,
   "id": "5a7d515b",
   "metadata": {},
   "outputs": [
    {
     "name": "stdout",
     "output_type": "stream",
     "text": [
      "Number of components: 128\n",
      "Covariance covered: 0.9513708059797161\n"
     ]
    }
   ],
   "source": [
    "import numpy as np\n",
    "from sklearn.decomposition import PCA\n",
    "\n",
    "size = 128\n",
    "pca = PCA(n_components=size, svd_solver='full')\n",
    "embeddings_pca = pca.fit_transform(embeddings768)\n",
    "\n",
    "print('Number of components:', pca.n_components_)\n",
    "print('Covariance covered:', pca.explained_variance_ratio_.sum())"
   ]
  },
  {
   "cell_type": "code",
   "execution_count": 8,
   "id": "56335294",
   "metadata": {},
   "outputs": [],
   "source": [
    "embeddings_size_pca = {}\n",
    "i = 0\n",
    "for rx_norm_id in embeddings.keys():\n",
    "    embeddings_size_pca[rx_norm_id] = embeddings_pca[i]\n",
    "    i += 1"
   ]
  },
  {
   "cell_type": "code",
   "execution_count": 10,
   "id": "4ed4befe",
   "metadata": {},
   "outputs": [
    {
     "name": "stdout",
     "output_type": "stream",
     "text": [
      "./Data/TWOSIDES-kg_bio2rdf_embeddings_128_pca.pkl\n"
     ]
    }
   ],
   "source": [
    "with open('./Data/Embeddings/kg_bio2rdf_embeddings_'+str(size)+'_pca.pkl', 'wb') as file:\n",
    "    pickle.dump(embeddings_size_pca, file)\n",
    "    print(file.name)"
   ]
  },
  {
   "cell_type": "code",
   "execution_count": null,
   "id": "d6e54de5",
   "metadata": {},
   "outputs": [],
   "source": []
  }
 ],
 "metadata": {
  "kernelspec": {
   "display_name": "Python 3 (ipykernel)",
   "language": "python",
   "name": "python3"
  },
  "language_info": {
   "codemirror_mode": {
    "name": "ipython",
    "version": 3
   },
   "file_extension": ".py",
   "mimetype": "text/x-python",
   "name": "python",
   "nbconvert_exporter": "python",
   "pygments_lexer": "ipython3",
   "version": "3.11.4"
  }
 },
 "nbformat": 4,
 "nbformat_minor": 5
}
