{
 "cells": [
  {
   "cell_type": "markdown",
   "id": "cb1009b4",
   "metadata": {},
   "source": [
    "# Dataset Split from TWOSIDES DDI"
   ]
  },
  {
   "cell_type": "markdown",
   "id": "0bfa872c",
   "metadata": {},
   "source": [
    "## Prepare Seen and Unseen datasets"
   ]
  },
  {
   "cell_type": "code",
   "execution_count": 15,
   "id": "9e388c7b",
   "metadata": {},
   "outputs": [],
   "source": [
    "import pandas as pd\n",
    "import numpy as np\n",
    "import json\n",
    "import pickle\n",
    "\n",
    "random_seed = 71\n",
    "sample_size = 100_000"
   ]
  },
  {
   "cell_type": "code",
   "execution_count": 16,
   "id": "bad899ac",
   "metadata": {},
   "outputs": [],
   "source": [
    "with open('./Data/TWOSIDES/TWOSIDES-categories.json', 'r') as fp:\n",
    "    categories = json.load(fp)"
   ]
  },
  {
   "cell_type": "code",
   "execution_count": 17,
   "id": "33340b3c",
   "metadata": {},
   "outputs": [],
   "source": [
    "df = pd.read_csv('./Data/TWOSIDES/TWOSIDES-xz-triplets-known-grouped.csv')"
   ]
  },
  {
   "cell_type": "markdown",
   "id": "1f79d617",
   "metadata": {},
   "source": [
    "#### Select negative samples\n",
    "Given the __closed world hypothesis__ we use all the possible pairs of the drugs not present in the set as __negative__ samples"
   ]
  },
  {
   "cell_type": "code",
   "execution_count": 4,
   "id": "635813a7",
   "metadata": {},
   "outputs": [
    {
     "name": "stdout",
     "output_type": "stream",
     "text": [
      "all possible pairs: 1077444\n",
      "positives pairs: 106917\n",
      "real negatives pairs: 970527\n"
     ]
    }
   ],
   "source": [
    "# get all the unique drugs that are in the drug1 column\n",
    "drugs1 = df[['drug1']].drop_duplicates()\n",
    "# get all the uniqe drugs that are in the drug2 column\n",
    "tmp = df[['drug2']].drop_duplicates()\n",
    "# join them\n",
    "tmp.rename(columns={'drug2':'drug1'}, inplace=True)\n",
    "drugs1 = pd.concat([drugs1, tmp], ignore_index=True).drop_duplicates()\n",
    "# now drugs1 column has all the possible drugs, copy them to drugs2 column\n",
    "drugs2 = drugs1.rename(columns={'drug1':'drug2'})\n",
    "# Create all the possible combinations as negatives (we will remove the pairs that are positive latter)\n",
    "negatives = drugs1.join(drugs2, how='cross')\n",
    "# remember for all pairs in the dataset drug1 < drug2\n",
    "# negatives = negatives[negatives['drug1'] <= negatives['drug2']]\n",
    "negatives['class_00'] = 1.0\n",
    "print('all possible pairs:', len(negatives))\n",
    "# Remove the positives from the negatives\n",
    "# get all the positives\n",
    "positives = df[['drug1', 'drug2']].drop_duplicates()\n",
    "# disquise them as negatives\n",
    "positives['class_00'] = 1.0\n",
    "print('positives pairs:', len(positives))\n",
    "# add the disguised positives to the negatives\n",
    "# they will be duplicates as negatives contains all the posssible combinations\n",
    "# so dropping all duplicates leaves us with the real negatives\n",
    "negatives = pd.concat([negatives, positives], ignore_index=True).drop_duplicates(keep=False, ignore_index=True)\n",
    "print('real negatives pairs:', len(negatives))"
   ]
  },
  {
   "cell_type": "markdown",
   "id": "e8bd3d8c",
   "metadata": {},
   "source": [
    "### Distinct Classes and Drugs"
   ]
  },
  {
   "cell_type": "code",
   "execution_count": 5,
   "id": "3a68df3b",
   "metadata": {},
   "outputs": [
    {
     "name": "stdout",
     "output_type": "stream",
     "text": [
      "Drugs: 1038\n"
     ]
    }
   ],
   "source": [
    "print('Drugs:', pd.concat([df['drug1'], df['drug2']]).drop_duplicates().nunique())"
   ]
  },
  {
   "cell_type": "markdown",
   "id": "a5c13c3c",
   "metadata": {},
   "source": [
    "### Pairs per class"
   ]
  },
  {
   "cell_type": "code",
   "execution_count": 6,
   "id": "03bf8472",
   "metadata": {},
   "outputs": [
    {
     "data": {
      "text/plain": [
       "class_00        0.0\n",
       "class_18    50852.0\n",
       "class_45    51778.0\n",
       "class_27    56812.0\n",
       "class_51    58623.0\n",
       "class_42    61771.0\n",
       "class_52    63719.0\n",
       "class_03    64647.0\n",
       "class_22    65137.0\n",
       "class_44    68794.0\n",
       "dtype: float64"
      ]
     },
     "execution_count": 6,
     "metadata": {},
     "output_type": "execute_result"
    }
   ],
   "source": [
    "df.loc[:,'class_00':'class_55'].sum(axis=0).sort_values(ascending=True)[:10]"
   ]
  },
  {
   "cell_type": "markdown",
   "id": "e65052a7",
   "metadata": {},
   "source": [
    "### Select the 2 classes as unseen and the rest as seen\n",
    "__Unseen:__ [18, 45] __Seen:__ [...]"
   ]
  },
  {
   "cell_type": "code",
   "execution_count": 7,
   "id": "3bbc6102",
   "metadata": {},
   "outputs": [
    {
     "name": "stdout",
     "output_type": "stream",
     "text": [
      "seen.shape: (55137, 58)\n",
      "unseen.shape: (51780, 5)\n",
      "seen.columns: Index(['drug1', 'drug2', 'class_00', 'class_01', 'class_02', 'class_03',\n",
      "       'class_04', 'class_05', 'class_06', 'class_07', 'class_08', 'class_09',\n",
      "       'class_10', 'class_11', 'class_12', 'class_13', 'class_14', 'class_15',\n",
      "       'class_16', 'class_17', 'unseen_class_18', 'class_19', 'class_20',\n",
      "       'class_21', 'class_22', 'class_23', 'class_24', 'class_25', 'class_26',\n",
      "       'class_27', 'class_28', 'class_29', 'class_30', 'class_31', 'class_32',\n",
      "       'class_33', 'class_34', 'class_35', 'class_36', 'class_37', 'class_38',\n",
      "       'class_39', 'class_40', 'class_41', 'class_42', 'class_43', 'class_44',\n",
      "       'unseen_class_45', 'class_46', 'class_47', 'class_48', 'class_49',\n",
      "       'class_50', 'class_51', 'class_52', 'class_53', 'class_54', 'class_55'],\n",
      "      dtype='object')\n",
      "unseen.columns: Index(['drug1', 'drug2', 'class_00', 'class_18', 'class_45'], dtype='object')\n"
     ]
    }
   ],
   "source": [
    "selected_classes = [\n",
    " 'class_00', 'class_01', 'class_02', 'class_03', 'class_04', 'class_05', 'class_06', 'class_07', 'class_08', 'class_09',\n",
    " 'class_10', 'class_11', 'class_12', 'class_13', 'class_14', 'class_15', 'class_16', 'class_17',             'class_19',\n",
    " 'class_20', 'class_21', 'class_22', 'class_23', 'class_24', 'class_25', 'class_26', 'class_27', 'class_28', 'class_29',\n",
    " 'class_30', 'class_31', 'class_32', 'class_33', 'class_34', 'class_35', 'class_36', 'class_37', 'class_38', 'class_39',\n",
    " 'class_40', 'class_41', 'class_42', 'class_43', 'class_44',             'class_46', 'class_47', 'class_48', 'class_49',\n",
    " 'class_50', 'class_51', 'class_52', 'class_53', 'class_54', 'class_55'\n",
    "]\n",
    "\n",
    "unseen = df[\n",
    "    (df['class_18'] == 1.0) |\n",
    "    (df['class_45'] == 1.0) \n",
    "].copy()\n",
    "seen = df[\n",
    "    (df['class_18'] == 0.0) &\n",
    "    (df['class_45'] == 0.0)\n",
    "].copy()\n",
    "seen = seen.rename(columns={\n",
    "    'class_18':'unseen_class_18', \n",
    "    'class_45':'unseen_class_45', \n",
    "})\n",
    "unseen = unseen.drop(columns=selected_classes[1:])\n",
    "print('seen.shape:', seen.shape)\n",
    "print('unseen.shape:', unseen.shape)\n",
    "print('seen.columns:', seen.columns)\n",
    "print('unseen.columns:', unseen.columns)\n"
   ]
  },
  {
   "cell_type": "markdown",
   "id": "1720771f",
   "metadata": {},
   "source": [
    "#### Select negative samples\n",
    "We select negative samples with drugs already existing in the __train__ and __test__ datasets respectively"
   ]
  },
  {
   "cell_type": "code",
   "execution_count": 8,
   "id": "c46f6ba4",
   "metadata": {},
   "outputs": [
    {
     "name": "stdout",
     "output_type": "stream",
     "text": [
      "seen_drugs: 1035\n"
     ]
    },
    {
     "data": {
      "text/html": [
       "<div>\n",
       "<style scoped>\n",
       "    .dataframe tbody tr th:only-of-type {\n",
       "        vertical-align: middle;\n",
       "    }\n",
       "\n",
       "    .dataframe tbody tr th {\n",
       "        vertical-align: top;\n",
       "    }\n",
       "\n",
       "    .dataframe thead th {\n",
       "        text-align: right;\n",
       "    }\n",
       "</style>\n",
       "<table border=\"1\" class=\"dataframe\">\n",
       "  <thead>\n",
       "    <tr style=\"text-align: right;\">\n",
       "      <th></th>\n",
       "      <th>drug1</th>\n",
       "      <th>drug2</th>\n",
       "      <th>class_00</th>\n",
       "      <th>class_01</th>\n",
       "      <th>class_02</th>\n",
       "      <th>class_03</th>\n",
       "      <th>class_04</th>\n",
       "      <th>class_05</th>\n",
       "      <th>class_06</th>\n",
       "      <th>class_07</th>\n",
       "      <th>...</th>\n",
       "      <th>class_46</th>\n",
       "      <th>class_47</th>\n",
       "      <th>class_48</th>\n",
       "      <th>class_49</th>\n",
       "      <th>class_50</th>\n",
       "      <th>class_51</th>\n",
       "      <th>class_52</th>\n",
       "      <th>class_53</th>\n",
       "      <th>class_54</th>\n",
       "      <th>class_55</th>\n",
       "    </tr>\n",
       "  </thead>\n",
       "  <tbody>\n",
       "    <tr>\n",
       "      <th>0</th>\n",
       "      <td>55681</td>\n",
       "      <td>1243041</td>\n",
       "      <td>1.0</td>\n",
       "      <td>0.0</td>\n",
       "      <td>0.0</td>\n",
       "      <td>0.0</td>\n",
       "      <td>0.0</td>\n",
       "      <td>0.0</td>\n",
       "      <td>0.0</td>\n",
       "      <td>0.0</td>\n",
       "      <td>...</td>\n",
       "      <td>0.0</td>\n",
       "      <td>0.0</td>\n",
       "      <td>0.0</td>\n",
       "      <td>0.0</td>\n",
       "      <td>0.0</td>\n",
       "      <td>0.0</td>\n",
       "      <td>0.0</td>\n",
       "      <td>0.0</td>\n",
       "      <td>0.0</td>\n",
       "      <td>0.0</td>\n",
       "    </tr>\n",
       "    <tr>\n",
       "      <th>1</th>\n",
       "      <td>134547</td>\n",
       "      <td>6313</td>\n",
       "      <td>0.0</td>\n",
       "      <td>0.0</td>\n",
       "      <td>1.0</td>\n",
       "      <td>0.0</td>\n",
       "      <td>1.0</td>\n",
       "      <td>0.0</td>\n",
       "      <td>1.0</td>\n",
       "      <td>0.0</td>\n",
       "      <td>...</td>\n",
       "      <td>1.0</td>\n",
       "      <td>1.0</td>\n",
       "      <td>0.0</td>\n",
       "      <td>1.0</td>\n",
       "      <td>1.0</td>\n",
       "      <td>0.0</td>\n",
       "      <td>0.0</td>\n",
       "      <td>1.0</td>\n",
       "      <td>1.0</td>\n",
       "      <td>0.0</td>\n",
       "    </tr>\n",
       "    <tr>\n",
       "      <th>2</th>\n",
       "      <td>4094</td>\n",
       "      <td>47858</td>\n",
       "      <td>1.0</td>\n",
       "      <td>0.0</td>\n",
       "      <td>0.0</td>\n",
       "      <td>0.0</td>\n",
       "      <td>0.0</td>\n",
       "      <td>0.0</td>\n",
       "      <td>0.0</td>\n",
       "      <td>0.0</td>\n",
       "      <td>...</td>\n",
       "      <td>0.0</td>\n",
       "      <td>0.0</td>\n",
       "      <td>0.0</td>\n",
       "      <td>0.0</td>\n",
       "      <td>0.0</td>\n",
       "      <td>0.0</td>\n",
       "      <td>0.0</td>\n",
       "      <td>0.0</td>\n",
       "      <td>0.0</td>\n",
       "      <td>0.0</td>\n",
       "    </tr>\n",
       "    <tr>\n",
       "      <th>3</th>\n",
       "      <td>8627</td>\n",
       "      <td>3920</td>\n",
       "      <td>1.0</td>\n",
       "      <td>0.0</td>\n",
       "      <td>0.0</td>\n",
       "      <td>0.0</td>\n",
       "      <td>0.0</td>\n",
       "      <td>0.0</td>\n",
       "      <td>0.0</td>\n",
       "      <td>0.0</td>\n",
       "      <td>...</td>\n",
       "      <td>0.0</td>\n",
       "      <td>0.0</td>\n",
       "      <td>0.0</td>\n",
       "      <td>0.0</td>\n",
       "      <td>0.0</td>\n",
       "      <td>0.0</td>\n",
       "      <td>0.0</td>\n",
       "      <td>0.0</td>\n",
       "      <td>0.0</td>\n",
       "      <td>0.0</td>\n",
       "    </tr>\n",
       "    <tr>\n",
       "      <th>4</th>\n",
       "      <td>797195</td>\n",
       "      <td>41493</td>\n",
       "      <td>0.0</td>\n",
       "      <td>1.0</td>\n",
       "      <td>1.0</td>\n",
       "      <td>0.0</td>\n",
       "      <td>1.0</td>\n",
       "      <td>0.0</td>\n",
       "      <td>1.0</td>\n",
       "      <td>1.0</td>\n",
       "      <td>...</td>\n",
       "      <td>1.0</td>\n",
       "      <td>1.0</td>\n",
       "      <td>0.0</td>\n",
       "      <td>1.0</td>\n",
       "      <td>0.0</td>\n",
       "      <td>0.0</td>\n",
       "      <td>0.0</td>\n",
       "      <td>1.0</td>\n",
       "      <td>1.0</td>\n",
       "      <td>0.0</td>\n",
       "    </tr>\n",
       "  </tbody>\n",
       "</table>\n",
       "<p>5 rows × 58 columns</p>\n",
       "</div>"
      ],
      "text/plain": [
       "    drug1    drug2  class_00  class_01  class_02  class_03  class_04  \\\n",
       "0   55681  1243041       1.0       0.0       0.0       0.0       0.0   \n",
       "1  134547     6313       0.0       0.0       1.0       0.0       1.0   \n",
       "2    4094    47858       1.0       0.0       0.0       0.0       0.0   \n",
       "3    8627     3920       1.0       0.0       0.0       0.0       0.0   \n",
       "4  797195    41493       0.0       1.0       1.0       0.0       1.0   \n",
       "\n",
       "   class_05  class_06  class_07  ...  class_46  class_47  class_48  class_49  \\\n",
       "0       0.0       0.0       0.0  ...       0.0       0.0       0.0       0.0   \n",
       "1       0.0       1.0       0.0  ...       1.0       1.0       0.0       1.0   \n",
       "2       0.0       0.0       0.0  ...       0.0       0.0       0.0       0.0   \n",
       "3       0.0       0.0       0.0  ...       0.0       0.0       0.0       0.0   \n",
       "4       0.0       1.0       1.0  ...       1.0       1.0       0.0       1.0   \n",
       "\n",
       "   class_50  class_51  class_52  class_53  class_54  class_55  \n",
       "0       0.0       0.0       0.0       0.0       0.0       0.0  \n",
       "1       1.0       0.0       0.0       1.0       1.0       0.0  \n",
       "2       0.0       0.0       0.0       0.0       0.0       0.0  \n",
       "3       0.0       0.0       0.0       0.0       0.0       0.0  \n",
       "4       0.0       0.0       0.0       1.0       1.0       0.0  \n",
       "\n",
       "[5 rows x 58 columns]"
      ]
     },
     "execution_count": 8,
     "metadata": {},
     "output_type": "execute_result"
    }
   ],
   "source": [
    "seen_drugs = pd.concat([pd.Series(seen['drug1'].unique()), pd.Series(seen['drug2'].unique())]).unique()\n",
    "print('seen_drugs:', len(seen_drugs))\n",
    "seen_negatives = negatives[negatives['drug1'].isin(seen_drugs)]\n",
    "seen_negatives = seen_negatives[seen_negatives['drug2'].isin(seen_drugs)]\n",
    "seen_negatives = seen_negatives.sample(sample_size, random_state=random_seed, replace=True).reset_index(drop=True)\n",
    "# Negatives belong in class_00\n",
    "seen_negatives['class_00'] = 1.0\n",
    "seen = pd.concat([seen, seen_negatives], ignore_index=True).sample(frac=1.0, ignore_index=True)\n",
    "# replace NaN for the negative class columns with 0.0\n",
    "seen.fillna(0.0, inplace=True)\n",
    "seen.head()"
   ]
  },
  {
   "cell_type": "markdown",
   "id": "848aefd7",
   "metadata": {},
   "source": [
    "#### Duplicate the pairs for each DrugA-DrugB also add DrugB-DrugA"
   ]
  },
  {
   "cell_type": "code",
   "execution_count": 9,
   "id": "47bb75bf",
   "metadata": {},
   "outputs": [],
   "source": [
    "# print('Initial seen set:', seen.shape)\n",
    "# duplicates= seen.copy()\n",
    "# duplicates[['drug2', 'drugbank2', 'drug1', 'drugbank1']] = seen[['drug1', 'drugbank1', 'drug2', 'drugbank2']]\n",
    "# seen = pd.concat([seen, duplicates], ignore_index=True).drop_duplicates()\n",
    "# print('Duplicates seen set:', seen.shape)"
   ]
  },
  {
   "cell_type": "markdown",
   "id": "17edbf3d",
   "metadata": {},
   "source": [
    "#### Prepare the unseen set"
   ]
  },
  {
   "cell_type": "code",
   "execution_count": 10,
   "id": "33057ca1",
   "metadata": {},
   "outputs": [
    {
     "name": "stdout",
     "output_type": "stream",
     "text": [
      "Unseen positive: 51780\n",
      "unseen_drugs: 901\n",
      "all unseen_negatives: 94598\n"
     ]
    },
    {
     "data": {
      "text/html": [
       "<div>\n",
       "<style scoped>\n",
       "    .dataframe tbody tr th:only-of-type {\n",
       "        vertical-align: middle;\n",
       "    }\n",
       "\n",
       "    .dataframe tbody tr th {\n",
       "        vertical-align: top;\n",
       "    }\n",
       "\n",
       "    .dataframe thead th {\n",
       "        text-align: right;\n",
       "    }\n",
       "</style>\n",
       "<table border=\"1\" class=\"dataframe\">\n",
       "  <thead>\n",
       "    <tr style=\"text-align: right;\">\n",
       "      <th></th>\n",
       "      <th>drug1</th>\n",
       "      <th>drug2</th>\n",
       "      <th>class_00</th>\n",
       "      <th>class_18</th>\n",
       "      <th>class_45</th>\n",
       "    </tr>\n",
       "  </thead>\n",
       "  <tbody>\n",
       "    <tr>\n",
       "      <th>0</th>\n",
       "      <td>3616</td>\n",
       "      <td>30121</td>\n",
       "      <td>1.0</td>\n",
       "      <td>0.0</td>\n",
       "      <td>0.0</td>\n",
       "    </tr>\n",
       "    <tr>\n",
       "      <th>1</th>\n",
       "      <td>11246</td>\n",
       "      <td>15996</td>\n",
       "      <td>0.0</td>\n",
       "      <td>1.0</td>\n",
       "      <td>1.0</td>\n",
       "    </tr>\n",
       "    <tr>\n",
       "      <th>2</th>\n",
       "      <td>121243</td>\n",
       "      <td>30131</td>\n",
       "      <td>1.0</td>\n",
       "      <td>0.0</td>\n",
       "      <td>0.0</td>\n",
       "    </tr>\n",
       "    <tr>\n",
       "      <th>3</th>\n",
       "      <td>3648</td>\n",
       "      <td>474128</td>\n",
       "      <td>1.0</td>\n",
       "      <td>0.0</td>\n",
       "      <td>0.0</td>\n",
       "    </tr>\n",
       "    <tr>\n",
       "      <th>4</th>\n",
       "      <td>38685</td>\n",
       "      <td>14845</td>\n",
       "      <td>1.0</td>\n",
       "      <td>0.0</td>\n",
       "      <td>0.0</td>\n",
       "    </tr>\n",
       "    <tr>\n",
       "      <th>...</th>\n",
       "      <td>...</td>\n",
       "      <td>...</td>\n",
       "      <td>...</td>\n",
       "      <td>...</td>\n",
       "      <td>...</td>\n",
       "    </tr>\n",
       "    <tr>\n",
       "      <th>103555</th>\n",
       "      <td>17128</td>\n",
       "      <td>21949</td>\n",
       "      <td>0.0</td>\n",
       "      <td>1.0</td>\n",
       "      <td>1.0</td>\n",
       "    </tr>\n",
       "    <tr>\n",
       "      <th>103556</th>\n",
       "      <td>4917</td>\n",
       "      <td>9899</td>\n",
       "      <td>0.0</td>\n",
       "      <td>1.0</td>\n",
       "      <td>1.0</td>\n",
       "    </tr>\n",
       "    <tr>\n",
       "      <th>103557</th>\n",
       "      <td>11124</td>\n",
       "      <td>1373458</td>\n",
       "      <td>1.0</td>\n",
       "      <td>0.0</td>\n",
       "      <td>0.0</td>\n",
       "    </tr>\n",
       "    <tr>\n",
       "      <th>103558</th>\n",
       "      <td>6902</td>\n",
       "      <td>596724</td>\n",
       "      <td>1.0</td>\n",
       "      <td>0.0</td>\n",
       "      <td>0.0</td>\n",
       "    </tr>\n",
       "    <tr>\n",
       "      <th>103559</th>\n",
       "      <td>5764</td>\n",
       "      <td>9518</td>\n",
       "      <td>1.0</td>\n",
       "      <td>0.0</td>\n",
       "      <td>0.0</td>\n",
       "    </tr>\n",
       "  </tbody>\n",
       "</table>\n",
       "<p>103560 rows × 5 columns</p>\n",
       "</div>"
      ],
      "text/plain": [
       "         drug1    drug2  class_00  class_18  class_45\n",
       "0         3616    30121       1.0       0.0       0.0\n",
       "1        11246    15996       0.0       1.0       1.0\n",
       "2       121243    30131       1.0       0.0       0.0\n",
       "3         3648   474128       1.0       0.0       0.0\n",
       "4        38685    14845       1.0       0.0       0.0\n",
       "...        ...      ...       ...       ...       ...\n",
       "103555   17128    21949       0.0       1.0       1.0\n",
       "103556    4917     9899       0.0       1.0       1.0\n",
       "103557   11124  1373458       1.0       0.0       0.0\n",
       "103558    6902   596724       1.0       0.0       0.0\n",
       "103559    5764     9518       1.0       0.0       0.0\n",
       "\n",
       "[103560 rows x 5 columns]"
      ]
     },
     "execution_count": 10,
     "metadata": {},
     "output_type": "execute_result"
    }
   ],
   "source": [
    "unseen_sample_size = len(unseen)\n",
    "print('Unseen positive:', unseen_sample_size)\n",
    "\n",
    "try:\n",
    "    unseen_drugs = pd.concat([pd.Series(unseen['drug1'].unique()), pd.Series(unseen['drug2'].unique())]).unique()\n",
    "    print('unseen_drugs:', len(unseen_drugs))\n",
    "    unseen_negatives = negatives[negatives['drug1'].isin(unseen_drugs)]\n",
    "    unseen_negatives = unseen_negatives[unseen_negatives['drug2'].isin(seen_drugs)]\n",
    "    unseen_negatives = unseen_negatives.sample(unseen_sample_size*2, random_state=random_seed, replace=False).reset_index(drop=True)\n",
    "    unseen_negatives = unseen_negatives.drop_duplicates()\n",
    "except:\n",
    "    pass\n",
    "# Remove common rows from unseen_negatives and seen_negatives\n",
    "seen_negatives_tmp = seen_negatives.copy()\n",
    "# Negatives belong in class_00\n",
    "unseen_negatives['class_00'] = 1.0\n",
    "unseen_negatives = unseen_negatives[~unseen_negatives.apply(tuple, axis=1).isin(pd.merge(unseen_negatives, seen_negatives_tmp).apply(tuple, axis=1))]\n",
    "print('all unseen_negatives:', len(unseen_negatives))\n",
    "unseen_negatives = unseen_negatives.sample(unseen_sample_size, random_state=random_seed, replace=False).reset_index(drop=True)\n",
    "unseen = pd.concat([unseen, unseen_negatives], ignore_index=True)\n",
    "# Fill NA with 0.0 and mix Negative and Positive samples\n",
    "unseen = unseen.fillna(0.0).sample(frac=1.0, ignore_index=True)\n",
    "unseen"
   ]
  },
  {
   "cell_type": "markdown",
   "id": "51aa30e2",
   "metadata": {},
   "source": [
    "#### Save the dataset"
   ]
  },
  {
   "cell_type": "code",
   "execution_count": 11,
   "id": "217392c4",
   "metadata": {},
   "outputs": [
    {
     "name": "stdout",
     "output_type": "stream",
     "text": [
      "./Data/C56_71_TWOSIDES_one_hot_train.csv\n",
      "./Data/C56_71_TWOSIDES_one_hot_test.csv\n"
     ]
    }
   ],
   "source": [
    "seen.to_csv('./Data/C56_'+str(random_seed)+'_TWOSIDES_one_hot_train.csv', index=False)\n",
    "unseen.to_csv('./Data/C56_'+str(random_seed)+'_TWOSIDES_one_hot_test.csv', index=False)\n",
    "print('./Data/C56_'+str(random_seed)+'_TWOSIDES_one_hot_train.csv')\n",
    "print('./Data/C56_'+str(random_seed)+'_TWOSIDES_one_hot_test.csv')"
   ]
  },
  {
   "cell_type": "code",
   "execution_count": null,
   "id": "4b77c180",
   "metadata": {},
   "outputs": [],
   "source": []
  },
  {
   "cell_type": "markdown",
   "id": "0c97aa7a",
   "metadata": {},
   "source": [
    "### Create dictionaries mapping RxNORM to DrugBank ids and Drug Names"
   ]
  },
  {
   "cell_type": "code",
   "execution_count": 12,
   "id": "354a3f69",
   "metadata": {},
   "outputs": [],
   "source": [
    "kg_embeddings = pd.read_csv(\"./Data/Entity2Vec_sg_200_5_5_15_2_500_d5_uniform.txt\")\n",
    "kg_db = kg_embeddings['DB'].drop_duplicates()\n",
    "ssp_embeddings = pd.read_csv(\"./Data/DeepDDI-drug_similarity.csv\")\n",
    "ssp_db = ssp_embeddings['DB'].drop_duplicates()\n",
    "db_rx = pd.read_csv('./Data/TWOSIDES-DB-RxNorm.csv')\n",
    "db_rx = db_rx[db_rx['drugbank_id'].isin(kg_db) &\n",
    "              db_rx['drugbank_id'].isin(ssp_db)]\n",
    "# DB_IDs without SMILES \n",
    "db_no_SMILES = ['DB00104', 'DB00375', 'DB06219', 'DB08869', 'DB09265']\n",
    "db_rx = db_rx[~db_rx['drugbank_id'].isin(db_no_SMILES)]\n",
    "rx_norms = db_rx['rx_norm_id'].drop_duplicates()"
   ]
  },
  {
   "cell_type": "code",
   "execution_count": 13,
   "id": "eaef8543",
   "metadata": {},
   "outputs": [],
   "source": [
    "rx_norm_to_db = {}\n",
    "for index, row in db_rx.iterrows():\n",
    "    rx_norm_to_db[row['rx_norm_id']] = row['drugbank_id']\n",
    "with open('./Data/TWOSIDES/rx_norm_to_db.pkl', 'wb') as file:\n",
    "    pickle.dump(rx_norm_to_db, file)"
   ]
  },
  {
   "cell_type": "code",
   "execution_count": 14,
   "id": "75e48d35",
   "metadata": {},
   "outputs": [],
   "source": [
    "rx_norm_names = pd.read_csv('./Data/TWOSIDES/TWOSIDES-drugs-names.csv')\n",
    "rx_norm_to_name = {}\n",
    "for index, row in rx_norm_names.iterrows():\n",
    "    rx_norm_to_name[row['rxnorm_id']] = row['concept_name']\n",
    "with open('./Data/TWOSIDES/rx_norm_to_name.pkl', 'wb') as file:\n",
    "    pickle.dump(rx_norm_to_name, file)"
   ]
  },
  {
   "cell_type": "code",
   "execution_count": null,
   "id": "0a9b8c3c",
   "metadata": {},
   "outputs": [],
   "source": []
  }
 ],
 "metadata": {
  "kernelspec": {
   "display_name": "Python 3 (ipykernel)",
   "language": "python",
   "name": "python3"
  },
  "language_info": {
   "codemirror_mode": {
    "name": "ipython",
    "version": 3
   },
   "file_extension": ".py",
   "mimetype": "text/x-python",
   "name": "python",
   "nbconvert_exporter": "python",
   "pygments_lexer": "ipython3",
   "version": "3.11.4"
  }
 },
 "nbformat": 4,
 "nbformat_minor": 5
}
