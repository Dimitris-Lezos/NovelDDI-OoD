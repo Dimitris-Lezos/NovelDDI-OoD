{
 "cells": [
  {
   "cell_type": "markdown",
   "id": "cb1009b4",
   "metadata": {},
   "source": [
    "# DDI TWOSIDES Processing"
   ]
  },
  {
   "cell_type": "code",
   "execution_count": null,
   "id": "1b658b60",
   "metadata": {},
   "outputs": [],
   "source": [
    "!pip install progressbar2"
   ]
  },
  {
   "cell_type": "code",
   "execution_count": 1,
   "id": "b6868846",
   "metadata": {},
   "outputs": [
    {
     "name": "stderr",
     "output_type": "stream",
     "text": [
      "C:\\Users\\dlezo\\AppData\\Roaming\\Python\\Python311\\site-packages\\pandas\\core\\arrays\\masked.py:60: UserWarning: Pandas requires version '1.3.6' or newer of 'bottleneck' (version '1.3.5' currently installed).\n",
      "  from pandas.core import (\n"
     ]
    }
   ],
   "source": [
    "import pandas as pd\n",
    "import numpy as np\n",
    "import json\n",
    "from progressbar import ProgressBar"
   ]
  },
  {
   "cell_type": "markdown",
   "id": "f34fcd1d",
   "metadata": {},
   "source": [
    "#### Process TWOSIDES triplets"
   ]
  },
  {
   "cell_type": "code",
   "execution_count": 2,
   "id": "65ada775",
   "metadata": {},
   "outputs": [
    {
     "name": "stderr",
     "output_type": "stream",
     "text": [
      "\u001b[38;2;0;255;0m100%\u001b[39m \u001b[38;2;0;255;0m(43 of 43)\u001b[39m |########################| Elapsed Time: 0:02:34 Time:  0:02:340314\n"
     ]
    }
   ],
   "source": [
    "bar = ProgressBar(max_value=42920392//1000000+1)\n",
    "add_header = True\n",
    "file_mode = 'w'\n",
    "for df in pd.read_csv('./Data/TWOSIDES/TWOSIDES-xz.csv', usecols=[0,2,4], dtype='Int64', chunksize=1000000, \n",
    "                     header=0, names=['drug_1_rxnorm_id','drug_1_concept_name','drug_2_rxnorm_id','drug_2_concept_name',\n",
    "                                      'condition_meddra_id','condition_concept_name','A','B','C','D','PRR',\n",
    "                                      'PRR_error','mean_reporting_frequency']):\n",
    "    bar.next()\n",
    "    df.to_csv(\n",
    "        './Data/TWOSIDES/TWOSIDES-xz-triplets.csv', \n",
    "        index=False, \n",
    "        columns=['drug_1_rxnorm_id','drug_2_rxnorm_id','condition_meddra_id'],\n",
    "        header=add_header,\n",
    "        mode=file_mode\n",
    "    )\n",
    "    add_header = False\n",
    "    file_mode = 'a'\n",
    "bar.finish()"
   ]
  },
  {
   "cell_type": "markdown",
   "id": "96a46aa0",
   "metadata": {},
   "source": [
    "#### Extract all Drug RxNORMs"
   ]
  },
  {
   "cell_type": "code",
   "execution_count": 3,
   "id": "093a1ea1",
   "metadata": {},
   "outputs": [
    {
     "name": "stdout",
     "output_type": "stream",
     "text": [
      "(42920390, 3)\n"
     ]
    },
    {
     "data": {
      "text/html": [
       "<div>\n",
       "<style scoped>\n",
       "    .dataframe tbody tr th:only-of-type {\n",
       "        vertical-align: middle;\n",
       "    }\n",
       "\n",
       "    .dataframe tbody tr th {\n",
       "        vertical-align: top;\n",
       "    }\n",
       "\n",
       "    .dataframe thead th {\n",
       "        text-align: right;\n",
       "    }\n",
       "</style>\n",
       "<table border=\"1\" class=\"dataframe\">\n",
       "  <thead>\n",
       "    <tr style=\"text-align: right;\">\n",
       "      <th></th>\n",
       "      <th>drug_1_rxnorm_id</th>\n",
       "      <th>drug_2_rxnorm_id</th>\n",
       "      <th>condition_meddra_id</th>\n",
       "    </tr>\n",
       "  </thead>\n",
       "  <tbody>\n",
       "    <tr>\n",
       "      <th>0</th>\n",
       "      <td>10355</td>\n",
       "      <td>136411</td>\n",
       "      <td>10003239</td>\n",
       "    </tr>\n",
       "    <tr>\n",
       "      <th>1</th>\n",
       "      <td>1808</td>\n",
       "      <td>7824</td>\n",
       "      <td>10003239</td>\n",
       "    </tr>\n",
       "  </tbody>\n",
       "</table>\n",
       "</div>"
      ],
      "text/plain": [
       "   drug_1_rxnorm_id  drug_2_rxnorm_id  condition_meddra_id\n",
       "0             10355            136411             10003239\n",
       "1              1808              7824             10003239"
      ]
     },
     "execution_count": 3,
     "metadata": {},
     "output_type": "execute_result"
    }
   ],
   "source": [
    "df = pd.read_csv('./Data/TWOSIDES/TWOSIDES-xz-triplets.csv', dtype='Int64')\n",
    "print(df.shape)\n",
    "df.head(2)"
   ]
  },
  {
   "cell_type": "code",
   "execution_count": 4,
   "id": "9830f3e9",
   "metadata": {},
   "outputs": [],
   "source": [
    "drugs1 = df['drug_1_rxnorm_id'].drop_duplicates()\n",
    "drugs2 = df['drug_2_rxnorm_id'].drop_duplicates()"
   ]
  },
  {
   "cell_type": "code",
   "execution_count": 5,
   "id": "107875f4",
   "metadata": {
    "scrolled": false
   },
   "outputs": [],
   "source": [
    "drugs = pd.concat([drugs1, drugs2]).drop_duplicates()\n",
    "drugs.to_csv('./Data/TWOSIDES/TWOSIDES-drugs.csv', header=['rxnorm_id'])"
   ]
  },
  {
   "cell_type": "markdown",
   "id": "55eeb557",
   "metadata": {},
   "source": [
    "#### Extract Drugs Names"
   ]
  },
  {
   "cell_type": "code",
   "execution_count": 6,
   "id": "8a853ecc",
   "metadata": {},
   "outputs": [
    {
     "name": "stderr",
     "output_type": "stream",
     "text": [
      "\u001b[38;2;0;255;0m100%\u001b[39m \u001b[38;2;0;255;0m(43 of 43)\u001b[39m |########################| Elapsed Time: 0:00:33 Time:  0:00:330003\n"
     ]
    },
    {
     "name": "stdout",
     "output_type": "stream",
     "text": [
      "(1916, 2)\n"
     ]
    },
    {
     "data": {
      "text/html": [
       "<div>\n",
       "<style scoped>\n",
       "    .dataframe tbody tr th:only-of-type {\n",
       "        vertical-align: middle;\n",
       "    }\n",
       "\n",
       "    .dataframe tbody tr th {\n",
       "        vertical-align: top;\n",
       "    }\n",
       "\n",
       "    .dataframe thead th {\n",
       "        text-align: right;\n",
       "    }\n",
       "</style>\n",
       "<table border=\"1\" class=\"dataframe\">\n",
       "  <thead>\n",
       "    <tr style=\"text-align: right;\">\n",
       "      <th></th>\n",
       "      <th>rxnorm_id</th>\n",
       "      <th>concept_name</th>\n",
       "    </tr>\n",
       "  </thead>\n",
       "  <tbody>\n",
       "    <tr>\n",
       "      <th>0</th>\n",
       "      <td>10355</td>\n",
       "      <td>Temazepam</td>\n",
       "    </tr>\n",
       "    <tr>\n",
       "      <th>1</th>\n",
       "      <td>1808</td>\n",
       "      <td>Bumetanide</td>\n",
       "    </tr>\n",
       "  </tbody>\n",
       "</table>\n",
       "</div>"
      ],
      "text/plain": [
       "  rxnorm_id concept_name\n",
       "0     10355    Temazepam\n",
       "1      1808   Bumetanide"
      ]
     },
     "execution_count": 6,
     "metadata": {},
     "output_type": "execute_result"
    }
   ],
   "source": [
    "bar = ProgressBar(max_value=42920392//1000000+1)\n",
    "names = pd.DataFrame(columns=['rxnorm_id', 'concept_name'])\n",
    "for df in pd.read_csv('./Data/TWOSIDES/TWOSIDES-xz.csv', usecols=[0,1,2,3], chunksize=1000000, \n",
    "                     header=0, names=['drug_1_rxnorm_id','drug_1_concept_name','drug_2_rxnorm_id','drug_2_concept_name',\n",
    "                                      'condition_meddra_id','condition_concept_name','A','B','C','D','PRR',\n",
    "                                      'PRR_error','mean_reporting_frequency']):\n",
    "    bar.next()\n",
    "    df = df.drop_duplicates()\n",
    "    names = pd.concat([names, \n",
    "                       df.rename(\n",
    "                           columns={'drug_1_rxnorm_id':'rxnorm_id','drug_1_concept_name':'concept_name'}, \n",
    "                           )[['rxnorm_id', 'concept_name']],\n",
    "                       df.rename(\n",
    "                           columns={'drug_2_rxnorm_id':'rxnorm_id','drug_2_concept_name':'concept_name'}, \n",
    "                           )[['rxnorm_id', 'concept_name']],\n",
    "                      ])\n",
    "bar.finish()\n",
    "names = names.drop_duplicates()\n",
    "names.to_csv('./Data/TWOSIDES/TWOSIDES-drugs-names.csv', header=['rxnorm_id', 'concept_name'], index=False)\n",
    "print(names.shape)\n",
    "names.head(2)"
   ]
  },
  {
   "cell_type": "markdown",
   "id": "e375a73c",
   "metadata": {},
   "source": [
    "#### Extract Condition-Interaction Names"
   ]
  },
  {
   "cell_type": "code",
   "execution_count": 7,
   "id": "5dc3dea5",
   "metadata": {},
   "outputs": [
    {
     "name": "stderr",
     "output_type": "stream",
     "text": [
      "\u001b[38;2;0;255;0m100%\u001b[39m \u001b[38;2;0;255;0m(43 of 43)\u001b[39m |########################| Elapsed Time: 0:00:32 Time:  0:00:320003\n"
     ]
    },
    {
     "name": "stdout",
     "output_type": "stream",
     "text": [
      "(12725, 2)\n"
     ]
    },
    {
     "data": {
      "text/html": [
       "<div>\n",
       "<style scoped>\n",
       "    .dataframe tbody tr th:only-of-type {\n",
       "        vertical-align: middle;\n",
       "    }\n",
       "\n",
       "    .dataframe tbody tr th {\n",
       "        vertical-align: top;\n",
       "    }\n",
       "\n",
       "    .dataframe thead th {\n",
       "        text-align: right;\n",
       "    }\n",
       "</style>\n",
       "<table border=\"1\" class=\"dataframe\">\n",
       "  <thead>\n",
       "    <tr style=\"text-align: right;\">\n",
       "      <th></th>\n",
       "      <th>condition_meddra_id</th>\n",
       "      <th>condition_concept_name</th>\n",
       "    </tr>\n",
       "  </thead>\n",
       "  <tbody>\n",
       "    <tr>\n",
       "      <th>0</th>\n",
       "      <td>10003239</td>\n",
       "      <td>Arthralgia</td>\n",
       "    </tr>\n",
       "    <tr>\n",
       "      <th>3</th>\n",
       "      <td>10012735</td>\n",
       "      <td>Diarrhoea</td>\n",
       "    </tr>\n",
       "  </tbody>\n",
       "</table>\n",
       "</div>"
      ],
      "text/plain": [
       "  condition_meddra_id condition_concept_name\n",
       "0            10003239             Arthralgia\n",
       "3            10012735              Diarrhoea"
      ]
     },
     "execution_count": 7,
     "metadata": {},
     "output_type": "execute_result"
    }
   ],
   "source": [
    "conditions = pd.DataFrame(columns=['condition_meddra_id','condition_concept_name'])\n",
    "bar = ProgressBar(max_value=(42920392//1000000+1))\n",
    "for df in pd.read_csv('./Data/TWOSIDES/TWOSIDES-xz.csv', usecols=[4,5], chunksize=1000000, \n",
    "                     header=0, names=['drug_1_rxnorm_id','drug_1_concept_name','drug_2_rxnorm_id','drug_2_concept_name',\n",
    "                                      'condition_meddra_id','condition_concept_name','A','B','C','D','PRR',\n",
    "                                      'PRR_error','mean_reporting_frequency']):\n",
    "    bar.next()\n",
    "    df = df.drop_duplicates()\n",
    "    conditions = pd.concat([conditions, df])\n",
    "bar.finish()\n",
    "conditions = conditions.drop_duplicates()\n",
    "print(conditions.shape)\n",
    "names = names.drop_duplicates()\n",
    "conditions.to_csv('./Data/TWOSIDES-conditions-names.csv', header=['condition_meddra_id','condition_concept_name'], index=False)\n",
    "conditions.head(2)"
   ]
  },
  {
   "cell_type": "markdown",
   "id": "5082b88b",
   "metadata": {},
   "source": [
    "#### List of Drugs that shouldn't be used"
   ]
  },
  {
   "cell_type": "code",
   "execution_count": 8,
   "id": "c4e3eea2",
   "metadata": {},
   "outputs": [],
   "source": [
    "kg_embeddings = pd.read_csv(\"./Data/Embeddings/Entity2Vec_sg_200_5_5_15_2_500_d5_uniform.txt\")\n",
    "kg_db = kg_embeddings['DB'].drop_duplicates()\n",
    "ssp_embeddings = pd.read_csv(\"./Data/Embeddings/DeepDDI-drug_similarity.csv\")\n",
    "ssp_db = ssp_embeddings['DB'].drop_duplicates()\n",
    "# DB_IDs without SMILES \n",
    "db_no_SMILES = ['DB00104', 'DB00375', 'DB06219', 'DB08869', 'DB09265']"
   ]
  },
  {
   "cell_type": "code",
   "execution_count": 9,
   "id": "ffa69e46",
   "metadata": {},
   "outputs": [
    {
     "name": "stdout",
     "output_type": "stream",
     "text": [
      "All drugs: 5260\n",
      "Drugs with kb_db embedding: 1656\n",
      "Drugs with ssp_db embedding: 1407\n",
      "Also remove 5 drugs due to missing SMILES\n",
      "Final number of Drugs: 1402\n"
     ]
    }
   ],
   "source": [
    "db_rx = pd.read_csv('./Data/TWOSIDES/TWOSIDES-DB-RxNorm.csv')\n",
    "print('All drugs:', len(db_rx))\n",
    "db_rx = db_rx[db_rx['drugbank_id'].isin(kg_db)]\n",
    "print('Drugs with kb_db embedding:', len(db_rx[db_rx['drugbank_id'].isin(kg_db)]))\n",
    "print('Drugs with ssp_db embedding:', len(db_rx[db_rx['drugbank_id'].isin(ssp_db)]))\n",
    "print('Also remove 5 drugs due to missing SMILES')\n",
    "db_rx = db_rx[db_rx['drugbank_id'].isin(kg_db) &\n",
    "              db_rx['drugbank_id'].isin(ssp_db)]\n",
    "db_rx = db_rx[~db_rx['drugbank_id'].isin(db_no_SMILES)]\n",
    "rx_norms = db_rx['rx_norm_id'].drop_duplicates()\n",
    "print('Final number of Drugs:', len(rx_norms))"
   ]
  },
  {
   "cell_type": "markdown",
   "id": "58232efe",
   "metadata": {},
   "source": [
    "#### Store the triplets with available Embeddings"
   ]
  },
  {
   "cell_type": "code",
   "execution_count": 10,
   "id": "3a9989e5",
   "metadata": {},
   "outputs": [
    {
     "name": "stdout",
     "output_type": "stream",
     "text": [
      "(26038428, 3)\n"
     ]
    },
    {
     "data": {
      "text/html": [
       "<div>\n",
       "<style scoped>\n",
       "    .dataframe tbody tr th:only-of-type {\n",
       "        vertical-align: middle;\n",
       "    }\n",
       "\n",
       "    .dataframe tbody tr th {\n",
       "        vertical-align: top;\n",
       "    }\n",
       "\n",
       "    .dataframe thead th {\n",
       "        text-align: right;\n",
       "    }\n",
       "</style>\n",
       "<table border=\"1\" class=\"dataframe\">\n",
       "  <thead>\n",
       "    <tr style=\"text-align: right;\">\n",
       "      <th></th>\n",
       "      <th>drug_1_rxnorm_id</th>\n",
       "      <th>drug_2_rxnorm_id</th>\n",
       "      <th>condition_meddra_id</th>\n",
       "    </tr>\n",
       "  </thead>\n",
       "  <tbody>\n",
       "    <tr>\n",
       "      <th>0</th>\n",
       "      <td>10355</td>\n",
       "      <td>136411</td>\n",
       "      <td>10003239</td>\n",
       "    </tr>\n",
       "    <tr>\n",
       "      <th>3</th>\n",
       "      <td>10324</td>\n",
       "      <td>8640</td>\n",
       "      <td>10012735</td>\n",
       "    </tr>\n",
       "  </tbody>\n",
       "</table>\n",
       "</div>"
      ],
      "text/plain": [
       "   drug_1_rxnorm_id  drug_2_rxnorm_id  condition_meddra_id\n",
       "0             10355            136411             10003239\n",
       "3             10324              8640             10012735"
      ]
     },
     "execution_count": 10,
     "metadata": {},
     "output_type": "execute_result"
    }
   ],
   "source": [
    "df = pd.read_csv('./Data/TWOSIDES/TWOSIDES-xz-triplets.csv')\n",
    "df = df[df['drug_1_rxnorm_id'].isin(rx_norms) & df['drug_2_rxnorm_id'].isin(rx_norms)]\n",
    "df.to_csv('./Data/TWOSIDES/TWOSIDES-xz-triplets-known.csv', index=False)\n",
    "print(df.shape)\n",
    "df.head(2)"
   ]
  },
  {
   "cell_type": "markdown",
   "id": "c559bed2",
   "metadata": {},
   "source": [
    "#### Keep only the Conditions-Interactions for the Triplets we will use"
   ]
  },
  {
   "cell_type": "code",
   "execution_count": 11,
   "id": "8755dda6",
   "metadata": {},
   "outputs": [
    {
     "name": "stdout",
     "output_type": "stream",
     "text": [
      "(26038428, 3)\n"
     ]
    },
    {
     "data": {
      "text/html": [
       "<div>\n",
       "<style scoped>\n",
       "    .dataframe tbody tr th:only-of-type {\n",
       "        vertical-align: middle;\n",
       "    }\n",
       "\n",
       "    .dataframe tbody tr th {\n",
       "        vertical-align: top;\n",
       "    }\n",
       "\n",
       "    .dataframe thead th {\n",
       "        text-align: right;\n",
       "    }\n",
       "</style>\n",
       "<table border=\"1\" class=\"dataframe\">\n",
       "  <thead>\n",
       "    <tr style=\"text-align: right;\">\n",
       "      <th></th>\n",
       "      <th>drug_1_rxnorm_id</th>\n",
       "      <th>drug_2_rxnorm_id</th>\n",
       "      <th>condition_meddra_id</th>\n",
       "    </tr>\n",
       "  </thead>\n",
       "  <tbody>\n",
       "    <tr>\n",
       "      <th>0</th>\n",
       "      <td>10355</td>\n",
       "      <td>136411</td>\n",
       "      <td>10003239</td>\n",
       "    </tr>\n",
       "    <tr>\n",
       "      <th>1</th>\n",
       "      <td>10324</td>\n",
       "      <td>8640</td>\n",
       "      <td>10012735</td>\n",
       "    </tr>\n",
       "  </tbody>\n",
       "</table>\n",
       "</div>"
      ],
      "text/plain": [
       "   drug_1_rxnorm_id  drug_2_rxnorm_id  condition_meddra_id\n",
       "0             10355            136411             10003239\n",
       "1             10324              8640             10012735"
      ]
     },
     "execution_count": 11,
     "metadata": {},
     "output_type": "execute_result"
    }
   ],
   "source": [
    "df = pd.read_csv('./Data/TWOSIDES/TWOSIDES-xz-triplets-known.csv')\n",
    "print(df.shape)\n",
    "df.head(2)"
   ]
  },
  {
   "cell_type": "code",
   "execution_count": 12,
   "id": "9af5efb0",
   "metadata": {},
   "outputs": [
    {
     "data": {
      "text/plain": [
       "12227"
      ]
     },
     "execution_count": 12,
     "metadata": {},
     "output_type": "execute_result"
    }
   ],
   "source": [
    "len(df['condition_meddra_id'].unique())"
   ]
  },
  {
   "cell_type": "code",
   "execution_count": 13,
   "id": "5a3c6107",
   "metadata": {},
   "outputs": [],
   "source": [
    "conditions = conditions[\n",
    "    conditions['condition_meddra_id'].isin(df['condition_meddra_id'].unique())\n",
    "].drop_duplicates()\n",
    "conditions.to_csv('./Data/TWOSIDES/TWOSIDES-conditions-names-known.csv', index=False)\n",
    "conditions['condition_concept_name'].to_csv('./Data/TWOSIDES/TWOSIDES-condition_names-known.csv', index=False)"
   ]
  },
  {
   "cell_type": "markdown",
   "id": "3d393e96",
   "metadata": {},
   "source": [
    "## Create Categories"
   ]
  },
  {
   "cell_type": "code",
   "execution_count": 14,
   "id": "e0807537",
   "metadata": {},
   "outputs": [
    {
     "data": {
      "text/html": [
       "<div>\n",
       "<style scoped>\n",
       "    .dataframe tbody tr th:only-of-type {\n",
       "        vertical-align: middle;\n",
       "    }\n",
       "\n",
       "    .dataframe tbody tr th {\n",
       "        vertical-align: top;\n",
       "    }\n",
       "\n",
       "    .dataframe thead th {\n",
       "        text-align: right;\n",
       "    }\n",
       "</style>\n",
       "<table border=\"1\" class=\"dataframe\">\n",
       "  <thead>\n",
       "    <tr style=\"text-align: right;\">\n",
       "      <th></th>\n",
       "      <th>drug_1_rxnorm_id</th>\n",
       "      <th>drug_2_rxnorm_id</th>\n",
       "      <th>condition_meddra_id</th>\n",
       "    </tr>\n",
       "  </thead>\n",
       "  <tbody>\n",
       "    <tr>\n",
       "      <th>0</th>\n",
       "      <td>10355</td>\n",
       "      <td>136411</td>\n",
       "      <td>10003239</td>\n",
       "    </tr>\n",
       "    <tr>\n",
       "      <th>1</th>\n",
       "      <td>10324</td>\n",
       "      <td>8640</td>\n",
       "      <td>10012735</td>\n",
       "    </tr>\n",
       "  </tbody>\n",
       "</table>\n",
       "</div>"
      ],
      "text/plain": [
       "   drug_1_rxnorm_id  drug_2_rxnorm_id  condition_meddra_id\n",
       "0             10355            136411             10003239\n",
       "1             10324              8640             10012735"
      ]
     },
     "execution_count": 14,
     "metadata": {},
     "output_type": "execute_result"
    }
   ],
   "source": [
    "df = pd.read_csv('./Data/TWOSIDES-xz-triplets-known.csv')\n",
    "df.head(2)"
   ]
  },
  {
   "cell_type": "code",
   "execution_count": 15,
   "id": "9a9f6d73",
   "metadata": {},
   "outputs": [
    {
     "data": {
      "text/html": [
       "<div>\n",
       "<style scoped>\n",
       "    .dataframe tbody tr th:only-of-type {\n",
       "        vertical-align: middle;\n",
       "    }\n",
       "\n",
       "    .dataframe tbody tr th {\n",
       "        vertical-align: top;\n",
       "    }\n",
       "\n",
       "    .dataframe thead th {\n",
       "        text-align: right;\n",
       "    }\n",
       "</style>\n",
       "<table border=\"1\" class=\"dataframe\">\n",
       "  <thead>\n",
       "    <tr style=\"text-align: right;\">\n",
       "      <th></th>\n",
       "      <th>condition_meddra_id</th>\n",
       "      <th>condition_concept_name</th>\n",
       "    </tr>\n",
       "  </thead>\n",
       "  <tbody>\n",
       "    <tr>\n",
       "      <th>0</th>\n",
       "      <td>10003239</td>\n",
       "      <td>Arthralgia</td>\n",
       "    </tr>\n",
       "    <tr>\n",
       "      <th>1</th>\n",
       "      <td>10012735</td>\n",
       "      <td>Diarrhoea</td>\n",
       "    </tr>\n",
       "  </tbody>\n",
       "</table>\n",
       "</div>"
      ],
      "text/plain": [
       "   condition_meddra_id condition_concept_name\n",
       "0             10003239             Arthralgia\n",
       "1             10012735              Diarrhoea"
      ]
     },
     "execution_count": 15,
     "metadata": {},
     "output_type": "execute_result"
    }
   ],
   "source": [
    "conditions = pd.read_csv('./Data/TWOSIDES-conditions-names-known.csv')\n",
    "conditions.head(2)"
   ]
  },
  {
   "cell_type": "code",
   "execution_count": 16,
   "id": "262ddef7",
   "metadata": {},
   "outputs": [],
   "source": [
    "conditions_dict = {}\n",
    "for _, row in conditions.iterrows():\n",
    "    conditions_dict[str(row.iloc[1])] = int(row.iloc[0])"
   ]
  },
  {
   "cell_type": "markdown",
   "id": "18a8af5e",
   "metadata": {},
   "source": [
    "#### Read all available Categories and the Categories assigned to each Side-Effect"
   ]
  },
  {
   "cell_type": "code",
   "execution_count": 17,
   "id": "042de859",
   "metadata": {},
   "outputs": [],
   "source": [
    "with open('./Data/TWOSIDES/TWOSIDES-categories.json', 'r') as fp:\n",
    "    categories = json.load(fp)\n",
    "with open('./Data/TWOSIDES/TWOSIDES-sideeffect-categories.json', 'r') as fp:\n",
    "    side_effect_category = json.load(fp)"
   ]
  },
  {
   "cell_type": "code",
   "execution_count": 18,
   "id": "9a4d4053",
   "metadata": {},
   "outputs": [
    {
     "data": {
      "text/html": [
       "<div>\n",
       "<style scoped>\n",
       "    .dataframe tbody tr th:only-of-type {\n",
       "        vertical-align: middle;\n",
       "    }\n",
       "\n",
       "    .dataframe tbody tr th {\n",
       "        vertical-align: top;\n",
       "    }\n",
       "\n",
       "    .dataframe thead th {\n",
       "        text-align: right;\n",
       "    }\n",
       "</style>\n",
       "<table border=\"1\" class=\"dataframe\">\n",
       "  <thead>\n",
       "    <tr style=\"text-align: right;\">\n",
       "      <th></th>\n",
       "      <th>drug1</th>\n",
       "      <th>drug2</th>\n",
       "      <th>effect</th>\n",
       "      <th>class_00</th>\n",
       "      <th>class_01</th>\n",
       "      <th>class_02</th>\n",
       "      <th>class_03</th>\n",
       "      <th>class_04</th>\n",
       "      <th>class_05</th>\n",
       "      <th>class_06</th>\n",
       "      <th>...</th>\n",
       "      <th>class_46</th>\n",
       "      <th>class_47</th>\n",
       "      <th>class_48</th>\n",
       "      <th>class_49</th>\n",
       "      <th>class_50</th>\n",
       "      <th>class_51</th>\n",
       "      <th>class_52</th>\n",
       "      <th>class_53</th>\n",
       "      <th>class_54</th>\n",
       "      <th>class_55</th>\n",
       "    </tr>\n",
       "  </thead>\n",
       "  <tbody>\n",
       "    <tr>\n",
       "      <th>0</th>\n",
       "      <td>10355</td>\n",
       "      <td>136411</td>\n",
       "      <td>10003239</td>\n",
       "      <td>0.0</td>\n",
       "      <td>0.0</td>\n",
       "      <td>0.0</td>\n",
       "      <td>0.0</td>\n",
       "      <td>0.0</td>\n",
       "      <td>0.0</td>\n",
       "      <td>0.0</td>\n",
       "      <td>...</td>\n",
       "      <td>0.0</td>\n",
       "      <td>0.0</td>\n",
       "      <td>0.0</td>\n",
       "      <td>0.0</td>\n",
       "      <td>0.0</td>\n",
       "      <td>0.0</td>\n",
       "      <td>0.0</td>\n",
       "      <td>0.0</td>\n",
       "      <td>0.0</td>\n",
       "      <td>0.0</td>\n",
       "    </tr>\n",
       "    <tr>\n",
       "      <th>1</th>\n",
       "      <td>10324</td>\n",
       "      <td>8640</td>\n",
       "      <td>10012735</td>\n",
       "      <td>0.0</td>\n",
       "      <td>0.0</td>\n",
       "      <td>0.0</td>\n",
       "      <td>0.0</td>\n",
       "      <td>0.0</td>\n",
       "      <td>0.0</td>\n",
       "      <td>0.0</td>\n",
       "      <td>...</td>\n",
       "      <td>0.0</td>\n",
       "      <td>0.0</td>\n",
       "      <td>0.0</td>\n",
       "      <td>0.0</td>\n",
       "      <td>0.0</td>\n",
       "      <td>0.0</td>\n",
       "      <td>0.0</td>\n",
       "      <td>0.0</td>\n",
       "      <td>0.0</td>\n",
       "      <td>0.0</td>\n",
       "    </tr>\n",
       "  </tbody>\n",
       "</table>\n",
       "<p>2 rows × 59 columns</p>\n",
       "</div>"
      ],
      "text/plain": [
       "   drug1   drug2    effect  class_00  class_01  class_02  class_03  class_04  \\\n",
       "0  10355  136411  10003239       0.0       0.0       0.0       0.0       0.0   \n",
       "1  10324    8640  10012735       0.0       0.0       0.0       0.0       0.0   \n",
       "\n",
       "   class_05  class_06  ...  class_46  class_47  class_48  class_49  class_50  \\\n",
       "0       0.0       0.0  ...       0.0       0.0       0.0       0.0       0.0   \n",
       "1       0.0       0.0  ...       0.0       0.0       0.0       0.0       0.0   \n",
       "\n",
       "   class_51  class_52  class_53  class_54  class_55  \n",
       "0       0.0       0.0       0.0       0.0       0.0  \n",
       "1       0.0       0.0       0.0       0.0       0.0  \n",
       "\n",
       "[2 rows x 59 columns]"
      ]
     },
     "execution_count": 18,
     "metadata": {},
     "output_type": "execute_result"
    }
   ],
   "source": [
    "df_pairs = df[['drug_1_rxnorm_id', 'drug_2_rxnorm_id', 'condition_meddra_id']].drop_duplicates()\n",
    "df_pairs = df_pairs.rename(columns={'drug_1_rxnorm_id':'drug1', 'drug_2_rxnorm_id':'drug2', 'condition_meddra_id': 'effect'})\n",
    "df_pairs[list(categories.values())] = 0.0\n",
    "df_pairs.head(2)"
   ]
  },
  {
   "cell_type": "code",
   "execution_count": 19,
   "id": "65a5f05c",
   "metadata": {},
   "outputs": [
    {
     "data": {
      "text/plain": [
       "12199"
      ]
     },
     "execution_count": 19,
     "metadata": {},
     "output_type": "execute_result"
    }
   ],
   "source": [
    "side_effect_dict = {}\n",
    "for key, data in list(side_effect_category.items()):\n",
    "    try:\n",
    "        meddra_id = conditions_dict[key]\n",
    "        classes = set()\n",
    "        for c in data:\n",
    "            try:\n",
    "                classes.add(categories[c])\n",
    "            except:\n",
    "                pass\n",
    "        side_effect_dict[meddra_id] = classes\n",
    "    except:\n",
    "        pass\n",
    "len(side_effect_dict)"
   ]
  },
  {
   "cell_type": "markdown",
   "id": "df4e3131",
   "metadata": {},
   "source": [
    "#### Create the Triplets-Classes file"
   ]
  },
  {
   "cell_type": "code",
   "execution_count": 20,
   "id": "96586dae",
   "metadata": {},
   "outputs": [
    {
     "name": "stderr",
     "output_type": "stream",
     "text": [
      "\u001b[38;2;0;255;0m100%\u001b[39m \u001b[38;2;0;255;0m(12199 of 12199)\u001b[39m |##################| Elapsed Time: 0:11:23 Time:  0:11:230555\n"
     ]
    },
    {
     "data": {
      "text/html": [
       "<div>\n",
       "<style scoped>\n",
       "    .dataframe tbody tr th:only-of-type {\n",
       "        vertical-align: middle;\n",
       "    }\n",
       "\n",
       "    .dataframe tbody tr th {\n",
       "        vertical-align: top;\n",
       "    }\n",
       "\n",
       "    .dataframe thead th {\n",
       "        text-align: right;\n",
       "    }\n",
       "</style>\n",
       "<table border=\"1\" class=\"dataframe\">\n",
       "  <thead>\n",
       "    <tr style=\"text-align: right;\">\n",
       "      <th></th>\n",
       "      <th>drug1</th>\n",
       "      <th>drug2</th>\n",
       "      <th>effect</th>\n",
       "      <th>class_00</th>\n",
       "      <th>class_01</th>\n",
       "      <th>class_02</th>\n",
       "      <th>class_03</th>\n",
       "      <th>class_04</th>\n",
       "      <th>class_05</th>\n",
       "      <th>class_06</th>\n",
       "      <th>...</th>\n",
       "      <th>class_46</th>\n",
       "      <th>class_47</th>\n",
       "      <th>class_48</th>\n",
       "      <th>class_49</th>\n",
       "      <th>class_50</th>\n",
       "      <th>class_51</th>\n",
       "      <th>class_52</th>\n",
       "      <th>class_53</th>\n",
       "      <th>class_54</th>\n",
       "      <th>class_55</th>\n",
       "    </tr>\n",
       "  </thead>\n",
       "  <tbody>\n",
       "    <tr>\n",
       "      <th>0</th>\n",
       "      <td>10355</td>\n",
       "      <td>136411</td>\n",
       "      <td>10003239</td>\n",
       "      <td>0.0</td>\n",
       "      <td>0.0</td>\n",
       "      <td>0.0</td>\n",
       "      <td>0.0</td>\n",
       "      <td>0.0</td>\n",
       "      <td>0.0</td>\n",
       "      <td>0.0</td>\n",
       "      <td>...</td>\n",
       "      <td>0.0</td>\n",
       "      <td>0.0</td>\n",
       "      <td>0.0</td>\n",
       "      <td>0.0</td>\n",
       "      <td>0.0</td>\n",
       "      <td>0.0</td>\n",
       "      <td>0.0</td>\n",
       "      <td>0.0</td>\n",
       "      <td>0.0</td>\n",
       "      <td>0.0</td>\n",
       "    </tr>\n",
       "    <tr>\n",
       "      <th>1</th>\n",
       "      <td>10324</td>\n",
       "      <td>8640</td>\n",
       "      <td>10012735</td>\n",
       "      <td>0.0</td>\n",
       "      <td>1.0</td>\n",
       "      <td>0.0</td>\n",
       "      <td>0.0</td>\n",
       "      <td>0.0</td>\n",
       "      <td>0.0</td>\n",
       "      <td>0.0</td>\n",
       "      <td>...</td>\n",
       "      <td>0.0</td>\n",
       "      <td>0.0</td>\n",
       "      <td>0.0</td>\n",
       "      <td>0.0</td>\n",
       "      <td>0.0</td>\n",
       "      <td>0.0</td>\n",
       "      <td>0.0</td>\n",
       "      <td>0.0</td>\n",
       "      <td>0.0</td>\n",
       "      <td>0.0</td>\n",
       "    </tr>\n",
       "    <tr>\n",
       "      <th>2</th>\n",
       "      <td>10355</td>\n",
       "      <td>136411</td>\n",
       "      <td>10012735</td>\n",
       "      <td>0.0</td>\n",
       "      <td>1.0</td>\n",
       "      <td>0.0</td>\n",
       "      <td>0.0</td>\n",
       "      <td>0.0</td>\n",
       "      <td>0.0</td>\n",
       "      <td>0.0</td>\n",
       "      <td>...</td>\n",
       "      <td>0.0</td>\n",
       "      <td>0.0</td>\n",
       "      <td>0.0</td>\n",
       "      <td>0.0</td>\n",
       "      <td>0.0</td>\n",
       "      <td>0.0</td>\n",
       "      <td>0.0</td>\n",
       "      <td>0.0</td>\n",
       "      <td>0.0</td>\n",
       "      <td>0.0</td>\n",
       "    </tr>\n",
       "    <tr>\n",
       "      <th>3</th>\n",
       "      <td>161</td>\n",
       "      <td>1546438</td>\n",
       "      <td>10012735</td>\n",
       "      <td>0.0</td>\n",
       "      <td>1.0</td>\n",
       "      <td>0.0</td>\n",
       "      <td>0.0</td>\n",
       "      <td>0.0</td>\n",
       "      <td>0.0</td>\n",
       "      <td>0.0</td>\n",
       "      <td>...</td>\n",
       "      <td>0.0</td>\n",
       "      <td>0.0</td>\n",
       "      <td>0.0</td>\n",
       "      <td>0.0</td>\n",
       "      <td>0.0</td>\n",
       "      <td>0.0</td>\n",
       "      <td>0.0</td>\n",
       "      <td>0.0</td>\n",
       "      <td>0.0</td>\n",
       "      <td>0.0</td>\n",
       "    </tr>\n",
       "    <tr>\n",
       "      <th>4</th>\n",
       "      <td>7781</td>\n",
       "      <td>9863</td>\n",
       "      <td>10012735</td>\n",
       "      <td>0.0</td>\n",
       "      <td>1.0</td>\n",
       "      <td>0.0</td>\n",
       "      <td>0.0</td>\n",
       "      <td>0.0</td>\n",
       "      <td>0.0</td>\n",
       "      <td>0.0</td>\n",
       "      <td>...</td>\n",
       "      <td>0.0</td>\n",
       "      <td>0.0</td>\n",
       "      <td>0.0</td>\n",
       "      <td>0.0</td>\n",
       "      <td>0.0</td>\n",
       "      <td>0.0</td>\n",
       "      <td>0.0</td>\n",
       "      <td>0.0</td>\n",
       "      <td>0.0</td>\n",
       "      <td>0.0</td>\n",
       "    </tr>\n",
       "  </tbody>\n",
       "</table>\n",
       "<p>5 rows × 59 columns</p>\n",
       "</div>"
      ],
      "text/plain": [
       "   drug1    drug2    effect  class_00  class_01  class_02  class_03  class_04  \\\n",
       "0  10355   136411  10003239       0.0       0.0       0.0       0.0       0.0   \n",
       "1  10324     8640  10012735       0.0       1.0       0.0       0.0       0.0   \n",
       "2  10355   136411  10012735       0.0       1.0       0.0       0.0       0.0   \n",
       "3    161  1546438  10012735       0.0       1.0       0.0       0.0       0.0   \n",
       "4   7781     9863  10012735       0.0       1.0       0.0       0.0       0.0   \n",
       "\n",
       "   class_05  class_06  ...  class_46  class_47  class_48  class_49  class_50  \\\n",
       "0       0.0       0.0  ...       0.0       0.0       0.0       0.0       0.0   \n",
       "1       0.0       0.0  ...       0.0       0.0       0.0       0.0       0.0   \n",
       "2       0.0       0.0  ...       0.0       0.0       0.0       0.0       0.0   \n",
       "3       0.0       0.0  ...       0.0       0.0       0.0       0.0       0.0   \n",
       "4       0.0       0.0  ...       0.0       0.0       0.0       0.0       0.0   \n",
       "\n",
       "   class_51  class_52  class_53  class_54  class_55  \n",
       "0       0.0       0.0       0.0       0.0       0.0  \n",
       "1       0.0       0.0       0.0       0.0       0.0  \n",
       "2       0.0       0.0       0.0       0.0       0.0  \n",
       "3       0.0       0.0       0.0       0.0       0.0  \n",
       "4       0.0       0.0       0.0       0.0       0.0  \n",
       "\n",
       "[5 rows x 59 columns]"
      ]
     },
     "execution_count": 20,
     "metadata": {},
     "output_type": "execute_result"
    }
   ],
   "source": [
    "bar = ProgressBar(max_value=len(side_effect_dict))\n",
    "for meddra_id, classes in side_effect_dict.items():\n",
    "    bar.next()\n",
    "    df_pairs.loc[df_pairs['effect'] == meddra_id, list(classes)] = 1.0\n",
    "bar.finish()\n",
    "df_pairs.head()"
   ]
  },
  {
   "cell_type": "code",
   "execution_count": 21,
   "id": "b0da31ad",
   "metadata": {
    "scrolled": true
   },
   "outputs": [
    {
     "data": {
      "text/plain": [
       "(26037737, 59)"
      ]
     },
     "execution_count": 21,
     "metadata": {},
     "output_type": "execute_result"
    }
   ],
   "source": [
    "df_pairs.shape"
   ]
  },
  {
   "cell_type": "markdown",
   "id": "2908053e",
   "metadata": {},
   "source": [
    "#### Keep a single row for each Drug-Drug pair"
   ]
  },
  {
   "cell_type": "code",
   "execution_count": 22,
   "id": "5de1204d",
   "metadata": {},
   "outputs": [
    {
     "name": "stdout",
     "output_type": "stream",
     "text": [
      "(106917, 58)\n"
     ]
    },
    {
     "data": {
      "text/html": [
       "<div>\n",
       "<style scoped>\n",
       "    .dataframe tbody tr th:only-of-type {\n",
       "        vertical-align: middle;\n",
       "    }\n",
       "\n",
       "    .dataframe tbody tr th {\n",
       "        vertical-align: top;\n",
       "    }\n",
       "\n",
       "    .dataframe thead th {\n",
       "        text-align: right;\n",
       "    }\n",
       "</style>\n",
       "<table border=\"1\" class=\"dataframe\">\n",
       "  <thead>\n",
       "    <tr style=\"text-align: right;\">\n",
       "      <th></th>\n",
       "      <th>drug1</th>\n",
       "      <th>drug2</th>\n",
       "      <th>class_00</th>\n",
       "      <th>class_01</th>\n",
       "      <th>class_02</th>\n",
       "      <th>class_03</th>\n",
       "      <th>class_04</th>\n",
       "      <th>class_05</th>\n",
       "      <th>class_06</th>\n",
       "      <th>class_07</th>\n",
       "      <th>...</th>\n",
       "      <th>class_46</th>\n",
       "      <th>class_47</th>\n",
       "      <th>class_48</th>\n",
       "      <th>class_49</th>\n",
       "      <th>class_50</th>\n",
       "      <th>class_51</th>\n",
       "      <th>class_52</th>\n",
       "      <th>class_53</th>\n",
       "      <th>class_54</th>\n",
       "      <th>class_55</th>\n",
       "    </tr>\n",
       "  </thead>\n",
       "  <tbody>\n",
       "    <tr>\n",
       "      <th>0</th>\n",
       "      <td>10355</td>\n",
       "      <td>136411</td>\n",
       "      <td>0.0</td>\n",
       "      <td>1.0</td>\n",
       "      <td>1.0</td>\n",
       "      <td>1.0</td>\n",
       "      <td>1.0</td>\n",
       "      <td>1.0</td>\n",
       "      <td>1.0</td>\n",
       "      <td>1.0</td>\n",
       "      <td>...</td>\n",
       "      <td>1.0</td>\n",
       "      <td>1.0</td>\n",
       "      <td>1.0</td>\n",
       "      <td>1.0</td>\n",
       "      <td>1.0</td>\n",
       "      <td>1.0</td>\n",
       "      <td>1.0</td>\n",
       "      <td>1.0</td>\n",
       "      <td>1.0</td>\n",
       "      <td>1.0</td>\n",
       "    </tr>\n",
       "    <tr>\n",
       "      <th>1</th>\n",
       "      <td>10324</td>\n",
       "      <td>8640</td>\n",
       "      <td>0.0</td>\n",
       "      <td>1.0</td>\n",
       "      <td>1.0</td>\n",
       "      <td>1.0</td>\n",
       "      <td>1.0</td>\n",
       "      <td>1.0</td>\n",
       "      <td>1.0</td>\n",
       "      <td>1.0</td>\n",
       "      <td>...</td>\n",
       "      <td>1.0</td>\n",
       "      <td>1.0</td>\n",
       "      <td>1.0</td>\n",
       "      <td>1.0</td>\n",
       "      <td>1.0</td>\n",
       "      <td>1.0</td>\n",
       "      <td>1.0</td>\n",
       "      <td>1.0</td>\n",
       "      <td>1.0</td>\n",
       "      <td>1.0</td>\n",
       "    </tr>\n",
       "  </tbody>\n",
       "</table>\n",
       "<p>2 rows × 58 columns</p>\n",
       "</div>"
      ],
      "text/plain": [
       "   drug1   drug2  class_00  class_01  class_02  class_03  class_04  class_05  \\\n",
       "0  10355  136411       0.0       1.0       1.0       1.0       1.0       1.0   \n",
       "1  10324    8640       0.0       1.0       1.0       1.0       1.0       1.0   \n",
       "\n",
       "   class_06  class_07  ...  class_46  class_47  class_48  class_49  class_50  \\\n",
       "0       1.0       1.0  ...       1.0       1.0       1.0       1.0       1.0   \n",
       "1       1.0       1.0  ...       1.0       1.0       1.0       1.0       1.0   \n",
       "\n",
       "   class_51  class_52  class_53  class_54  class_55  \n",
       "0       1.0       1.0       1.0       1.0       1.0  \n",
       "1       1.0       1.0       1.0       1.0       1.0  \n",
       "\n",
       "[2 rows x 58 columns]"
      ]
     },
     "execution_count": 22,
     "metadata": {},
     "output_type": "execute_result"
    }
   ],
   "source": [
    "columns = ['drug1', 'drug2']\n",
    "columns = columns + list(categories.values())\n",
    "df_pairs = df_pairs[df_pairs['effect'].isin(list(side_effect_dict.keys()))]\n",
    "df_pairs.loc[:, 'effect'] = 1\n",
    "df_grouped = df_pairs.groupby(['drug1', 'drug2', 'effect'], sort=False).max().reset_index()\n",
    "df_grouped = df_grouped.drop(columns=['effect'])\n",
    "df_grouped.to_csv('./Data/TWOSIDES/TWOSIDES-xz-triplets-known-grouped.csv', index=False)\n",
    "print(df_grouped.shape)\n",
    "df_grouped.head(2)"
   ]
  },
  {
   "cell_type": "code",
   "execution_count": null,
   "id": "996c11ae",
   "metadata": {},
   "outputs": [],
   "source": []
  }
 ],
 "metadata": {
  "kernelspec": {
   "display_name": "Python 3 (ipykernel)",
   "language": "python",
   "name": "python3"
  },
  "language_info": {
   "codemirror_mode": {
    "name": "ipython",
    "version": 3
   },
   "file_extension": ".py",
   "mimetype": "text/x-python",
   "name": "python",
   "nbconvert_exporter": "python",
   "pygments_lexer": "ipython3",
   "version": "3.11.4"
  }
 },
 "nbformat": 4,
 "nbformat_minor": 5
}
