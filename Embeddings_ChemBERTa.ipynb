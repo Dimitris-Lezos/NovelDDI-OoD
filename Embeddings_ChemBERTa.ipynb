{
 "cells": [
  {
   "cell_type": "markdown",
   "id": "7b37d784",
   "metadata": {},
   "source": [
    "### Produce ChemBERTa embeddings for Drugs"
   ]
  },
  {
   "cell_type": "markdown",
   "id": "dff781dc",
   "metadata": {},
   "source": [
    "#### Import libraries and BioBERT model"
   ]
  },
  {
   "cell_type": "code",
   "execution_count": 1,
   "id": "87722748",
   "metadata": {},
   "outputs": [
    {
     "name": "stdout",
     "output_type": "stream",
     "text": [
      "Defaulting to user installation because normal site-packages is not writeable\n",
      "Requirement already satisfied: pubchempy in c:\\users\\dlezo\\appdata\\roaming\\python\\python311\\site-packages (1.0.4)\n",
      "Defaulting to user installation because normal site-packages is not writeable\n",
      "Requirement already satisfied: rdkit in c:\\users\\dlezo\\appdata\\roaming\\python\\python311\\site-packages (2024.3.6)\n",
      "Requirement already satisfied: numpy in c:\\software\\anaconda3\\lib\\site-packages (from rdkit) (1.24.3)\n",
      "Requirement already satisfied: Pillow in c:\\software\\anaconda3\\lib\\site-packages (from rdkit) (9.4.0)\n",
      "Defaulting to user installation because normal site-packages is not writeable\n",
      "Requirement already satisfied: progressbar2 in c:\\users\\dlezo\\appdata\\roaming\\python\\python311\\site-packages (4.5.0)\n",
      "Requirement already satisfied: python-utils>=3.8.1 in c:\\users\\dlezo\\appdata\\roaming\\python\\python311\\site-packages (from progressbar2) (3.9.1)\n",
      "Requirement already satisfied: typing_extensions>3.10.0.2 in c:\\software\\anaconda3\\lib\\site-packages (from python-utils>=3.8.1->progressbar2) (4.7.1)\n"
     ]
    }
   ],
   "source": [
    "!pip install pubchempy\n",
    "!pip install rdkit\n",
    "!pip install progressbar2"
   ]
  },
  {
   "cell_type": "code",
   "execution_count": 2,
   "id": "4e218854",
   "metadata": {},
   "outputs": [
    {
     "name": "stderr",
     "output_type": "stream",
     "text": [
      "C:\\Users\\dlezo\\AppData\\Roaming\\Python\\Python311\\site-packages\\pandas\\core\\arrays\\masked.py:60: UserWarning: Pandas requires version '1.3.6' or newer of 'bottleneck' (version '1.3.5' currently installed).\n",
      "  from pandas.core import (\n"
     ]
    }
   ],
   "source": [
    "import pandas as pd\n",
    "import torch\n",
    "import pickle\n",
    "import json\n",
    "import numpy as np\n",
    "\n",
    "import pubchempy as pc\n",
    "from rdkit import Chem\n",
    "from rdkit.Chem import AllChem\n",
    "from progressbar import ProgressBar\n",
    "\n",
    "from transformers import AutoModel, AutoTokenizer\n",
    "\n",
    "model = AutoModel.from_pretrained('seyonec/PubChem10M_SMILES_BPE_450k')\n",
    "tokenizer = AutoTokenizer.from_pretrained('seyonec/PubChem10M_SMILES_BPE_450k')\n"
   ]
  },
  {
   "cell_type": "markdown",
   "id": "da317e6d",
   "metadata": {},
   "source": [
    "#### Load the Drugs SMILES from DrugBank"
   ]
  },
  {
   "cell_type": "code",
   "execution_count": 3,
   "id": "a4f83382",
   "metadata": {},
   "outputs": [],
   "source": [
    "with open('./Data/TWOSIDES/TWOSIDES-DB-SMILES.json', 'r') as file:\n",
    "    db_to_smiles = json.load(file)\n",
    "# add some extra SMILES\n",
    "db_smiles_df = pd.read_csv('./Data/TWOSIDES/PubChem-DrugBank-Name-SMILES.csv')\n",
    "for _, row in db_smiles_df.iterrows():\n",
    "    db_to_smiles[row['DrugBankID']] = row['SMILES']\n",
    "with open('./Data/TWOSIDES/rx_norm_to_db.pkl', 'rb') as file:\n",
    "    rx_norm_to_db = pickle.load(file)"
   ]
  },
  {
   "cell_type": "markdown",
   "id": "8a8bd574",
   "metadata": {},
   "source": [
    "#### Get the embedding from ChemBERTa"
   ]
  },
  {
   "cell_type": "code",
   "execution_count": 4,
   "id": "e000e0ca",
   "metadata": {},
   "outputs": [
    {
     "name": "stderr",
     "output_type": "stream",
     "text": [
      "\u001b[38;2;0;255;0m100%\u001b[39m \u001b[38;2;0;255;0m(100 of 100)\u001b[39m |######################| Elapsed Time: 0:01:50 Time:  0:01:500109\n"
     ]
    }
   ],
   "source": [
    "embeddings = {}\n",
    "i = 0\n",
    "step = len(rx_norm_to_db.keys())//100\n",
    "bar = ProgressBar(max_value=100)\n",
    "for rx_norm_id in rx_norm_to_db.keys():\n",
    "    if i%step==0:\n",
    "        bar.next()\n",
    "    encoded_input = tokenizer(db_to_smiles[rx_norm_to_db[rx_norm_id]], return_tensors='pt')\n",
    "    output_embedding = model(**encoded_input)['last_hidden_state'][:,0,:]\n",
    "    embeddings[rx_norm_id] = output_embedding\n",
    "    i += 1\n",
    "bar.finish()"
   ]
  },
  {
   "cell_type": "code",
   "execution_count": 6,
   "id": "f606224b",
   "metadata": {},
   "outputs": [],
   "source": [
    "# Get the embeddings in a list\n",
    "embeddings768 = []\n",
    "for rx_norm_id in rx_norm_to_db.keys():\n",
    "    embeddings768.append(embeddings[rx_norm_id].detach().numpy()[0])\n",
    "embeddings768 = np.array(embeddings768)"
   ]
  },
  {
   "cell_type": "markdown",
   "id": "b46c02f2",
   "metadata": {},
   "source": [
    "#### Reduce the embeddings dimensionality with PCA"
   ]
  },
  {
   "cell_type": "code",
   "execution_count": 7,
   "id": "5a7d515b",
   "metadata": {},
   "outputs": [
    {
     "name": "stdout",
     "output_type": "stream",
     "text": [
      "Number of components: 128\n",
      "Covariance covered: 0.92626125\n"
     ]
    }
   ],
   "source": [
    "import numpy as np\n",
    "from sklearn.decomposition import PCA\n",
    "\n",
    "size = 128\n",
    "pca = PCA(n_components=size, svd_solver='full')\n",
    "embeddings_pca = pca.fit_transform(embeddings768)\n",
    "\n",
    "print('Number of components:', pca.n_components_)\n",
    "print('Covariance covered:', pca.explained_variance_ratio_.sum())"
   ]
  },
  {
   "cell_type": "code",
   "execution_count": 8,
   "id": "56335294",
   "metadata": {},
   "outputs": [],
   "source": [
    "embeddings_size_pca = {}\n",
    "i = 0\n",
    "for rx_norm_id in embeddings.keys():\n",
    "    embeddings_size_pca[rx_norm_id] = embeddings_pca[i]\n",
    "    i += 1"
   ]
  },
  {
   "cell_type": "code",
   "execution_count": 9,
   "id": "4ed4befe",
   "metadata": {},
   "outputs": [
    {
     "name": "stdout",
     "output_type": "stream",
     "text": [
      "./Data/TWOSIDES-chemberta_embeddings_128_pca.pkl\n"
     ]
    }
   ],
   "source": [
    "with open('./Data/Embeddings/chemberta_embeddings_'+str(size)+'_pca.pkl', 'wb') as file:\n",
    "    pickle.dump(embeddings_size_pca, file)\n",
    "    print(file.name)\n"
   ]
  },
  {
   "cell_type": "code",
   "execution_count": null,
   "id": "cd520b75",
   "metadata": {},
   "outputs": [],
   "source": []
  }
 ],
 "metadata": {
  "kernelspec": {
   "display_name": "Python 3 (ipykernel)",
   "language": "python",
   "name": "python3"
  },
  "language_info": {
   "codemirror_mode": {
    "name": "ipython",
    "version": 3
   },
   "file_extension": ".py",
   "mimetype": "text/x-python",
   "name": "python",
   "nbconvert_exporter": "python",
   "pygments_lexer": "ipython3",
   "version": "3.11.4"
  }
 },
 "nbformat": 4,
 "nbformat_minor": 5
}
