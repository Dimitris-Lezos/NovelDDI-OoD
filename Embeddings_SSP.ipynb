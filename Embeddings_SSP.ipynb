{
 "cells": [
  {
   "cell_type": "markdown",
   "id": "7b37d784",
   "metadata": {},
   "source": [
    "### Use Embeddings extracted from SSP for Drugs"
   ]
  },
  {
   "cell_type": "markdown",
   "id": "dff781dc",
   "metadata": {},
   "source": [
    "#### Import libraries and BioBERT model"
   ]
  },
  {
   "cell_type": "code",
   "execution_count": 1,
   "id": "1fe47253",
   "metadata": {},
   "outputs": [
    {
     "name": "stdout",
     "output_type": "stream",
     "text": [
      "Defaulting to user installation because normal site-packages is not writeable\n",
      "Requirement already satisfied: progressbar2 in c:\\users\\dlezo\\appdata\\roaming\\python\\python311\\site-packages (4.5.0)\n",
      "Requirement already satisfied: python-utils>=3.8.1 in c:\\users\\dlezo\\appdata\\roaming\\python\\python311\\site-packages (from progressbar2) (3.9.1)\n",
      "Requirement already satisfied: typing_extensions>3.10.0.2 in c:\\software\\anaconda3\\lib\\site-packages (from python-utils>=3.8.1->progressbar2) (4.7.1)\n"
     ]
    }
   ],
   "source": [
    "!pip install progressbar2"
   ]
  },
  {
   "cell_type": "code",
   "execution_count": 2,
   "id": "4e218854",
   "metadata": {},
   "outputs": [
    {
     "name": "stderr",
     "output_type": "stream",
     "text": [
      "C:\\Users\\dlezo\\AppData\\Roaming\\Python\\Python311\\site-packages\\pandas\\core\\arrays\\masked.py:60: UserWarning: Pandas requires version '1.3.6' or newer of 'bottleneck' (version '1.3.5' currently installed).\n",
      "  from pandas.core import (\n"
     ]
    }
   ],
   "source": [
    "import pandas as pd\n",
    "import pickle\n",
    "import numpy as np\n",
    "import torch\n",
    "from progressbar import ProgressBar"
   ]
  },
  {
   "cell_type": "markdown",
   "id": "da317e6d",
   "metadata": {},
   "source": [
    "#### Load the Drugs common names from DrugBank"
   ]
  },
  {
   "cell_type": "code",
   "execution_count": 3,
   "id": "a4f83382",
   "metadata": {},
   "outputs": [],
   "source": [
    "with open('./Data/rx_norm_to_db.pkl', 'rb') as file:\n",
    "    rx_norm_to_db = pickle.load(file)"
   ]
  },
  {
   "cell_type": "markdown",
   "id": "8ce219dc",
   "metadata": {},
   "source": [
    "#### Load the embeddings file"
   ]
  },
  {
   "cell_type": "code",
   "execution_count": 5,
   "id": "ca22e624",
   "metadata": {},
   "outputs": [
    {
     "data": {
      "text/html": [
       "<div>\n",
       "<style scoped>\n",
       "    .dataframe tbody tr th:only-of-type {\n",
       "        vertical-align: middle;\n",
       "    }\n",
       "\n",
       "    .dataframe tbody tr th {\n",
       "        vertical-align: top;\n",
       "    }\n",
       "\n",
       "    .dataframe thead th {\n",
       "        text-align: right;\n",
       "    }\n",
       "</style>\n",
       "<table border=\"1\" class=\"dataframe\">\n",
       "  <thead>\n",
       "    <tr style=\"text-align: right;\">\n",
       "      <th></th>\n",
       "      <th>DB</th>\n",
       "      <th>DB00006</th>\n",
       "      <th>DB00014</th>\n",
       "      <th>DB00027</th>\n",
       "      <th>DB00035</th>\n",
       "      <th>DB00050</th>\n",
       "      <th>DB00080</th>\n",
       "      <th>DB00091</th>\n",
       "      <th>DB00093</th>\n",
       "      <th>DB00104</th>\n",
       "      <th>...</th>\n",
       "      <th>DB13874</th>\n",
       "      <th>DB13878</th>\n",
       "      <th>DB13879</th>\n",
       "      <th>DB13882</th>\n",
       "      <th>DB13908</th>\n",
       "      <th>DB13909</th>\n",
       "      <th>DB13910</th>\n",
       "      <th>DB13911</th>\n",
       "      <th>DB13925</th>\n",
       "      <th>DB13928</th>\n",
       "    </tr>\n",
       "  </thead>\n",
       "  <tbody>\n",
       "    <tr>\n",
       "      <th>0</th>\n",
       "      <td>DB00006</td>\n",
       "      <td>1.000000</td>\n",
       "      <td>0.630568</td>\n",
       "      <td>0.694057</td>\n",
       "      <td>0.502846</td>\n",
       "      <td>0.691275</td>\n",
       "      <td>0.600644</td>\n",
       "      <td>0.479255</td>\n",
       "      <td>0.489524</td>\n",
       "      <td>0.436847</td>\n",
       "      <td>...</td>\n",
       "      <td>0.154394</td>\n",
       "      <td>0.387755</td>\n",
       "      <td>0.311340</td>\n",
       "      <td>0.068602</td>\n",
       "      <td>0.164557</td>\n",
       "      <td>0.073107</td>\n",
       "      <td>0.307863</td>\n",
       "      <td>0.069221</td>\n",
       "      <td>0.522109</td>\n",
       "      <td>0.588346</td>\n",
       "    </tr>\n",
       "    <tr>\n",
       "      <th>1</th>\n",
       "      <td>DB00014</td>\n",
       "      <td>0.630568</td>\n",
       "      <td>1.000000</td>\n",
       "      <td>0.604824</td>\n",
       "      <td>0.642393</td>\n",
       "      <td>0.793826</td>\n",
       "      <td>0.637409</td>\n",
       "      <td>0.473214</td>\n",
       "      <td>0.624837</td>\n",
       "      <td>0.596354</td>\n",
       "      <td>...</td>\n",
       "      <td>0.254937</td>\n",
       "      <td>0.476671</td>\n",
       "      <td>0.408759</td>\n",
       "      <td>0.122622</td>\n",
       "      <td>0.253465</td>\n",
       "      <td>0.108108</td>\n",
       "      <td>0.420712</td>\n",
       "      <td>0.114504</td>\n",
       "      <td>0.632997</td>\n",
       "      <td>0.381986</td>\n",
       "    </tr>\n",
       "    <tr>\n",
       "      <th>2</th>\n",
       "      <td>DB00027</td>\n",
       "      <td>0.694057</td>\n",
       "      <td>0.604824</td>\n",
       "      <td>1.000000</td>\n",
       "      <td>0.407295</td>\n",
       "      <td>0.679111</td>\n",
       "      <td>0.558298</td>\n",
       "      <td>0.547576</td>\n",
       "      <td>0.423194</td>\n",
       "      <td>0.456389</td>\n",
       "      <td>...</td>\n",
       "      <td>0.170323</td>\n",
       "      <td>0.326409</td>\n",
       "      <td>0.241417</td>\n",
       "      <td>0.075253</td>\n",
       "      <td>0.163209</td>\n",
       "      <td>0.057225</td>\n",
       "      <td>0.325359</td>\n",
       "      <td>0.080863</td>\n",
       "      <td>0.481515</td>\n",
       "      <td>0.570597</td>\n",
       "    </tr>\n",
       "    <tr>\n",
       "      <th>3</th>\n",
       "      <td>DB00035</td>\n",
       "      <td>0.502846</td>\n",
       "      <td>0.642393</td>\n",
       "      <td>0.407295</td>\n",
       "      <td>1.000000</td>\n",
       "      <td>0.583333</td>\n",
       "      <td>0.591224</td>\n",
       "      <td>0.449689</td>\n",
       "      <td>0.931751</td>\n",
       "      <td>0.723781</td>\n",
       "      <td>...</td>\n",
       "      <td>0.270386</td>\n",
       "      <td>0.521368</td>\n",
       "      <td>0.491582</td>\n",
       "      <td>0.136126</td>\n",
       "      <td>0.294686</td>\n",
       "      <td>0.117949</td>\n",
       "      <td>0.345351</td>\n",
       "      <td>0.129330</td>\n",
       "      <td>0.697500</td>\n",
       "      <td>0.255708</td>\n",
       "    </tr>\n",
       "    <tr>\n",
       "      <th>4</th>\n",
       "      <td>DB00050</td>\n",
       "      <td>0.691275</td>\n",
       "      <td>0.793826</td>\n",
       "      <td>0.679111</td>\n",
       "      <td>0.583333</td>\n",
       "      <td>1.000000</td>\n",
       "      <td>0.607570</td>\n",
       "      <td>0.445387</td>\n",
       "      <td>0.559113</td>\n",
       "      <td>0.554601</td>\n",
       "      <td>...</td>\n",
       "      <td>0.231788</td>\n",
       "      <td>0.426190</td>\n",
       "      <td>0.341530</td>\n",
       "      <td>0.126923</td>\n",
       "      <td>0.231884</td>\n",
       "      <td>0.094697</td>\n",
       "      <td>0.403008</td>\n",
       "      <td>0.115587</td>\n",
       "      <td>0.594883</td>\n",
       "      <td>0.447619</td>\n",
       "    </tr>\n",
       "  </tbody>\n",
       "</table>\n",
       "<p>5 rows × 2160 columns</p>\n",
       "</div>"
      ],
      "text/plain": [
       "        DB   DB00006   DB00014   DB00027   DB00035   DB00050   DB00080  \\\n",
       "0  DB00006  1.000000  0.630568  0.694057  0.502846  0.691275  0.600644   \n",
       "1  DB00014  0.630568  1.000000  0.604824  0.642393  0.793826  0.637409   \n",
       "2  DB00027  0.694057  0.604824  1.000000  0.407295  0.679111  0.558298   \n",
       "3  DB00035  0.502846  0.642393  0.407295  1.000000  0.583333  0.591224   \n",
       "4  DB00050  0.691275  0.793826  0.679111  0.583333  1.000000  0.607570   \n",
       "\n",
       "    DB00091   DB00093   DB00104  ...   DB13874   DB13878   DB13879   DB13882  \\\n",
       "0  0.479255  0.489524  0.436847  ...  0.154394  0.387755  0.311340  0.068602   \n",
       "1  0.473214  0.624837  0.596354  ...  0.254937  0.476671  0.408759  0.122622   \n",
       "2  0.547576  0.423194  0.456389  ...  0.170323  0.326409  0.241417  0.075253   \n",
       "3  0.449689  0.931751  0.723781  ...  0.270386  0.521368  0.491582  0.136126   \n",
       "4  0.445387  0.559113  0.554601  ...  0.231788  0.426190  0.341530  0.126923   \n",
       "\n",
       "    DB13908   DB13909   DB13910   DB13911   DB13925   DB13928  \n",
       "0  0.164557  0.073107  0.307863  0.069221  0.522109  0.588346  \n",
       "1  0.253465  0.108108  0.420712  0.114504  0.632997  0.381986  \n",
       "2  0.163209  0.057225  0.325359  0.080863  0.481515  0.570597  \n",
       "3  0.294686  0.117949  0.345351  0.129330  0.697500  0.255708  \n",
       "4  0.231884  0.094697  0.403008  0.115587  0.594883  0.447619  \n",
       "\n",
       "[5 rows x 2160 columns]"
      ]
     },
     "execution_count": 5,
     "metadata": {},
     "output_type": "execute_result"
    }
   ],
   "source": [
    "ssp_embeddings = pd.read_csv(\"./Data/Embeddings/DeepDDI-drug_similarity.csv\")\n",
    "ssp_embeddings.head()"
   ]
  },
  {
   "cell_type": "markdown",
   "id": "8a8bd574",
   "metadata": {},
   "source": [
    "#### Get the embedding from DeepDDI's Structural Similarity Profile "
   ]
  },
  {
   "cell_type": "code",
   "execution_count": 6,
   "id": "e000e0ca",
   "metadata": {},
   "outputs": [
    {
     "name": "stderr",
     "output_type": "stream",
     "text": [
      "\u001b[38;2;0;255;0m100%\u001b[39m \u001b[38;2;0;255;0m(100 of 100)\u001b[39m |######################| Elapsed Time: 0:00:02 Time:  0:00:020000\n"
     ]
    }
   ],
   "source": [
    "embeddings = {}\n",
    "i = 0\n",
    "step = len(rx_norm_to_db.keys())//100\n",
    "bar = ProgressBar(max_value=100)\n",
    "for rx_norm_id in rx_norm_to_db.keys():\n",
    "    if i%step==0:\n",
    "        bar.next()\n",
    "    output_embedding = torch.from_numpy(np.array(\n",
    "        ssp_embeddings[ssp_embeddings['DB'] == rx_norm_to_db[rx_norm_id]].iloc[0][1:].values, dtype=np.float64))\n",
    "    embeddings[rx_norm_id] = output_embedding\n",
    "    i += 1\n",
    "bar.finish()"
   ]
  },
  {
   "cell_type": "code",
   "execution_count": 8,
   "id": "f606224b",
   "metadata": {},
   "outputs": [],
   "source": [
    "# Get the embeddings in a list\n",
    "embeddings768 = []\n",
    "for rx_norm_id in rx_norm_to_db.keys():\n",
    "    embeddings768.append(embeddings[rx_norm_id].detach().numpy())\n",
    "embeddings768 = np.array(embeddings768)"
   ]
  },
  {
   "cell_type": "markdown",
   "id": "b46c02f2",
   "metadata": {},
   "source": [
    "#### Reduce the embeddings dimensionality with PCA"
   ]
  },
  {
   "cell_type": "code",
   "execution_count": 9,
   "id": "5a7d515b",
   "metadata": {},
   "outputs": [
    {
     "name": "stdout",
     "output_type": "stream",
     "text": [
      "Number of components: 128\n",
      "Covariance covered: 0.9959271248546943\n"
     ]
    }
   ],
   "source": [
    "import numpy as np\n",
    "from sklearn.decomposition import PCA\n",
    "\n",
    "size = 128\n",
    "pca = PCA(n_components=size, svd_solver='full')\n",
    "embeddings_pca = pca.fit_transform(embeddings768)\n",
    "\n",
    "print('Number of components:', pca.n_components_)\n",
    "print('Covariance covered:', pca.explained_variance_ratio_.sum())"
   ]
  },
  {
   "cell_type": "code",
   "execution_count": 10,
   "id": "56335294",
   "metadata": {},
   "outputs": [],
   "source": [
    "embeddings_size_pca = {}\n",
    "i = 0\n",
    "for rx_norm_id in embeddings.keys():\n",
    "    embeddings_size_pca[rx_norm_id] = embeddings_pca[i]\n",
    "    i += 1"
   ]
  },
  {
   "cell_type": "code",
   "execution_count": 11,
   "id": "4ed4befe",
   "metadata": {},
   "outputs": [
    {
     "name": "stdout",
     "output_type": "stream",
     "text": [
      "./Data/TWOSIDES-ssp_embeddings_128_pca.pkl\n"
     ]
    }
   ],
   "source": [
    "with open('./Data/TWOSIDES-ssp_embeddings_'+str(size)+'_pca.pkl', 'wb') as file:\n",
    "    pickle.dump(embeddings_size_pca, file)\n",
    "    print(file.name)"
   ]
  },
  {
   "cell_type": "code",
   "execution_count": null,
   "id": "f64b905d",
   "metadata": {},
   "outputs": [],
   "source": []
  }
 ],
 "metadata": {
  "kernelspec": {
   "display_name": "Python 3 (ipykernel)",
   "language": "python",
   "name": "python3"
  },
  "language_info": {
   "codemirror_mode": {
    "name": "ipython",
    "version": 3
   },
   "file_extension": ".py",
   "mimetype": "text/x-python",
   "name": "python",
   "nbconvert_exporter": "python",
   "pygments_lexer": "ipython3",
   "version": "3.11.4"
  }
 },
 "nbformat": 4,
 "nbformat_minor": 5
}
