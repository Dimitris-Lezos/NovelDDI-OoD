{
 "cells": [
  {
   "cell_type": "markdown",
   "id": "a7269127",
   "metadata": {},
   "source": [
    "### Classification Network - Second Level - Preparation"
   ]
  },
  {
   "cell_type": "code",
   "execution_count": 1,
   "id": "1fd8f48b",
   "metadata": {},
   "outputs": [
    {
     "name": "stderr",
     "output_type": "stream",
     "text": [
      "C:\\Users\\dlezo\\AppData\\Roaming\\Python\\Python311\\site-packages\\pandas\\core\\arrays\\masked.py:60: UserWarning: Pandas requires version '1.3.6' or newer of 'bottleneck' (version '1.3.5' currently installed).\n",
      "  from pandas.core import (\n"
     ]
    }
   ],
   "source": [
    "import tensorflow as tf\n",
    "from tensorflow.keras import Sequential\n",
    "from tensorflow.keras.optimizers import Adam\n",
    "from tensorflow.keras.layers import Dense, Dropout, Input\n",
    "from tensorflow.keras.losses import BinaryCrossentropy, CategoricalCrossentropy, \\\n",
    "CategoricalHinge, BinaryFocalCrossentropy,\\\n",
    "MeanSquaredError, LogCosh, CosineSimilarity, Huber, MeanSquaredLogarithmicError, MeanAbsoluteError\n",
    "\n",
    "import pandas as pd\n",
    "import pickle\n",
    "import numpy as np\n",
    "\n",
    "from sklearn.model_selection import train_test_split\n",
    "from sklearn.metrics import mean_squared_error, r2_score, mean_absolute_error, f1_score\n",
    "from sklearn.metrics import confusion_matrix, classification_report\n",
    "from sklearn.metrics import accuracy_score\n",
    "\n",
    "import matplotlib.pyplot as plt"
   ]
  },
  {
   "cell_type": "markdown",
   "id": "6d4ae16d",
   "metadata": {},
   "source": [
    "#### Load the dataset"
   ]
  },
  {
   "cell_type": "code",
   "execution_count": 2,
   "id": "fcde1aa1",
   "metadata": {},
   "outputs": [],
   "source": [
    "seen = pd.read_csv('./Data/C56_71_TWOSIDES_one_hot_train.csv')\n",
    "unseen = pd.read_csv('./Data/C56_71_TWOSIDES_one_hot_test.csv')\n",
    "selected_classes = [\n",
    " 'class_00', 'class_01', 'class_02', 'class_03', 'class_04', 'class_05', 'class_06', 'class_07', 'class_08', 'class_09',\n",
    " 'class_10', 'class_11', 'class_12', 'class_13', 'class_14', 'class_15', 'class_16', 'class_17',             'class_19',\n",
    " 'class_20', 'class_21', 'class_22', 'class_23', 'class_24', 'class_25', 'class_26', 'class_27', 'class_28', 'class_29',\n",
    " 'class_30', 'class_31', 'class_32', 'class_33', 'class_34', 'class_35', 'class_36', 'class_37', 'class_38', 'class_39',\n",
    " 'class_40', 'class_41', 'class_42', 'class_43', 'class_44',             'class_46', 'class_47', 'class_48', 'class_49',\n",
    " 'class_50', 'class_51', 'class_52', 'class_53', 'class_54', 'class_55'\n",
    "]\n",
    "unseen_classes = ['class_00', 'class_18', 'class_45']\n",
    "class_columns = selected_classes\n",
    "unseen_columns = unseen_classes\n"
   ]
  },
  {
   "cell_type": "code",
   "execution_count": 3,
   "id": "6c1d9419",
   "metadata": {
    "scrolled": true
   },
   "outputs": [
    {
     "name": "stdout",
     "output_type": "stream",
     "text": [
      "Seen pairs: 155137\n",
      "Has/Doesn't have class_00 100000 / -44863\n",
      "Has/Doesn't have class_01 46981 / 8156\n",
      "Has/Doesn't have class_02 50429 / 4708\n",
      "Has/Doesn't have class_03 13274 / 41863\n",
      "Has/Doesn't have class_04 53738 / 1399\n",
      "Has/Doesn't have class_05 19342 / 35795\n",
      "Has/Doesn't have class_06 54162 / 975\n",
      "Has/Doesn't have class_07 28799 / 26338\n",
      "Has/Doesn't have class_08 29005 / 26132\n",
      "Has/Doesn't have class_09 31261 / 23876\n",
      "Has/Doesn't have class_10 54575 / 562\n",
      "Has/Doesn't have class_11 51810 / 3327\n",
      "Has/Doesn't have class_12 47356 / 7781\n",
      "Has/Doesn't have class_13 52445 / 2692\n",
      "Has/Doesn't have class_14 20528 / 34609\n",
      "Has/Doesn't have class_15 52627 / 2510\n",
      "Has/Doesn't have class_16 45863 / 9274\n",
      "Has/Doesn't have class_17 40630 / 14507\n",
      "Has/Doesn't have class_19 17600 / 37537\n",
      "Has/Doesn't have class_20 53792 / 1345\n",
      "Has/Doesn't have class_21 44431 / 10706\n",
      "Has/Doesn't have class_22 13823 / 41314\n",
      "Has/Doesn't have class_23 52057 / 3080\n",
      "Has/Doesn't have class_24 42749 / 12388\n",
      "Has/Doesn't have class_25 48962 / 6175\n",
      "Has/Doesn't have class_26 51268 / 3869\n",
      "Has/Doesn't have class_27 5602 / 49535\n",
      "Has/Doesn't have class_28 52445 / 2692\n",
      "Has/Doesn't have class_29 38470 / 16667\n",
      "Has/Doesn't have class_30 51665 / 3472\n",
      "Has/Doesn't have class_31 44711 / 10426\n",
      "Has/Doesn't have class_32 47628 / 7509\n",
      "Has/Doesn't have class_33 45606 / 9531\n",
      "Has/Doesn't have class_34 50413 / 4724\n",
      "Has/Doesn't have class_35 53243 / 1894\n",
      "Has/Doesn't have class_36 53097 / 2040\n",
      "Has/Doesn't have class_37 47708 / 7429\n",
      "Has/Doesn't have class_38 35873 / 19264\n",
      "Has/Doesn't have class_39 38473 / 16664\n",
      "Has/Doesn't have class_40 25939 / 29198\n",
      "Has/Doesn't have class_41 52978 / 2159\n",
      "Has/Doesn't have class_42 10508 / 44629\n",
      "Has/Doesn't have class_43 48346 / 6791\n",
      "Has/Doesn't have class_44 17365 / 37772\n",
      "Has/Doesn't have class_46 52488 / 2649\n",
      "Has/Doesn't have class_47 51813 / 3324\n",
      "Has/Doesn't have class_48 23027 / 32110\n",
      "Has/Doesn't have class_49 51658 / 3479\n",
      "Has/Doesn't have class_50 22459 / 32678\n",
      "Has/Doesn't have class_51 7370 / 47767\n",
      "Has/Doesn't have class_52 12433 / 42704\n",
      "Has/Doesn't have class_53 42173 / 12964\n",
      "Has/Doesn't have class_54 52942 / 2195\n",
      "Has/Doesn't have class_55 22410 / 32727\n"
     ]
    }
   ],
   "source": [
    "print('Seen pairs:', seen.shape[0])\n",
    "for column in class_columns:\n",
    "    print('Has/Doesn\\'t have', column, seen[seen[column] == 1.0].shape[0], '/', (seen[seen[column] == 0.0].shape[0]-100000))\n"
   ]
  },
  {
   "cell_type": "code",
   "execution_count": 4,
   "id": "f3aa47db",
   "metadata": {},
   "outputs": [
    {
     "name": "stdout",
     "output_type": "stream",
     "text": [
      "Unseen pairs: 103560\n"
     ]
    }
   ],
   "source": [
    "print('Unseen pairs:', unseen.shape[0])"
   ]
  },
  {
   "cell_type": "markdown",
   "id": "9ced96de",
   "metadata": {},
   "source": [
    "#### Load the Embeddings"
   ]
  },
  {
   "cell_type": "code",
   "execution_count": 5,
   "id": "ce9e3969",
   "metadata": {},
   "outputs": [
    {
     "name": "stdout",
     "output_type": "stream",
     "text": [
      "Seen shape: (155137, 59)\n",
      "Unseen shape: (103560, 6)\n"
     ]
    },
    {
     "data": {
      "text/html": [
       "<div>\n",
       "<style scoped>\n",
       "    .dataframe tbody tr th:only-of-type {\n",
       "        vertical-align: middle;\n",
       "    }\n",
       "\n",
       "    .dataframe tbody tr th {\n",
       "        vertical-align: top;\n",
       "    }\n",
       "\n",
       "    .dataframe thead th {\n",
       "        text-align: right;\n",
       "    }\n",
       "</style>\n",
       "<table border=\"1\" class=\"dataframe\">\n",
       "  <thead>\n",
       "    <tr style=\"text-align: right;\">\n",
       "      <th></th>\n",
       "      <th>drug1</th>\n",
       "      <th>drug2</th>\n",
       "      <th>class_00</th>\n",
       "      <th>class_01</th>\n",
       "      <th>class_02</th>\n",
       "      <th>class_03</th>\n",
       "      <th>class_04</th>\n",
       "      <th>class_05</th>\n",
       "      <th>class_06</th>\n",
       "      <th>class_07</th>\n",
       "      <th>...</th>\n",
       "      <th>class_47</th>\n",
       "      <th>class_48</th>\n",
       "      <th>class_49</th>\n",
       "      <th>class_50</th>\n",
       "      <th>class_51</th>\n",
       "      <th>class_52</th>\n",
       "      <th>class_53</th>\n",
       "      <th>class_54</th>\n",
       "      <th>class_55</th>\n",
       "      <th>embedded</th>\n",
       "    </tr>\n",
       "  </thead>\n",
       "  <tbody>\n",
       "    <tr>\n",
       "      <th>0</th>\n",
       "      <td>55681</td>\n",
       "      <td>1243041</td>\n",
       "      <td>1.0</td>\n",
       "      <td>0.0</td>\n",
       "      <td>0.0</td>\n",
       "      <td>0.0</td>\n",
       "      <td>0.0</td>\n",
       "      <td>0.0</td>\n",
       "      <td>0.0</td>\n",
       "      <td>0.0</td>\n",
       "      <td>...</td>\n",
       "      <td>0.0</td>\n",
       "      <td>0.0</td>\n",
       "      <td>0.0</td>\n",
       "      <td>0.0</td>\n",
       "      <td>0.0</td>\n",
       "      <td>0.0</td>\n",
       "      <td>0.0</td>\n",
       "      <td>0.0</td>\n",
       "      <td>0.0</td>\n",
       "      <td>[2.168276786804199, 1.0936528444290161, 0.9610...</td>\n",
       "    </tr>\n",
       "    <tr>\n",
       "      <th>1</th>\n",
       "      <td>134547</td>\n",
       "      <td>6313</td>\n",
       "      <td>0.0</td>\n",
       "      <td>0.0</td>\n",
       "      <td>1.0</td>\n",
       "      <td>0.0</td>\n",
       "      <td>1.0</td>\n",
       "      <td>0.0</td>\n",
       "      <td>1.0</td>\n",
       "      <td>0.0</td>\n",
       "      <td>...</td>\n",
       "      <td>1.0</td>\n",
       "      <td>0.0</td>\n",
       "      <td>1.0</td>\n",
       "      <td>1.0</td>\n",
       "      <td>0.0</td>\n",
       "      <td>0.0</td>\n",
       "      <td>1.0</td>\n",
       "      <td>1.0</td>\n",
       "      <td>0.0</td>\n",
       "      <td>[2.232297420501709, 0.9437393546104431, 0.0993...</td>\n",
       "    </tr>\n",
       "    <tr>\n",
       "      <th>2</th>\n",
       "      <td>4094</td>\n",
       "      <td>47858</td>\n",
       "      <td>1.0</td>\n",
       "      <td>0.0</td>\n",
       "      <td>0.0</td>\n",
       "      <td>0.0</td>\n",
       "      <td>0.0</td>\n",
       "      <td>0.0</td>\n",
       "      <td>0.0</td>\n",
       "      <td>0.0</td>\n",
       "      <td>...</td>\n",
       "      <td>0.0</td>\n",
       "      <td>0.0</td>\n",
       "      <td>0.0</td>\n",
       "      <td>0.0</td>\n",
       "      <td>0.0</td>\n",
       "      <td>0.0</td>\n",
       "      <td>0.0</td>\n",
       "      <td>0.0</td>\n",
       "      <td>0.0</td>\n",
       "      <td>[-0.5903611183166504, -1.876413106918335, 1.70...</td>\n",
       "    </tr>\n",
       "    <tr>\n",
       "      <th>3</th>\n",
       "      <td>8627</td>\n",
       "      <td>3920</td>\n",
       "      <td>1.0</td>\n",
       "      <td>0.0</td>\n",
       "      <td>0.0</td>\n",
       "      <td>0.0</td>\n",
       "      <td>0.0</td>\n",
       "      <td>0.0</td>\n",
       "      <td>0.0</td>\n",
       "      <td>0.0</td>\n",
       "      <td>...</td>\n",
       "      <td>0.0</td>\n",
       "      <td>0.0</td>\n",
       "      <td>0.0</td>\n",
       "      <td>0.0</td>\n",
       "      <td>0.0</td>\n",
       "      <td>0.0</td>\n",
       "      <td>0.0</td>\n",
       "      <td>0.0</td>\n",
       "      <td>0.0</td>\n",
       "      <td>[-0.37425464391708374, 1.5704320669174194, -0....</td>\n",
       "    </tr>\n",
       "    <tr>\n",
       "      <th>4</th>\n",
       "      <td>797195</td>\n",
       "      <td>41493</td>\n",
       "      <td>0.0</td>\n",
       "      <td>1.0</td>\n",
       "      <td>1.0</td>\n",
       "      <td>0.0</td>\n",
       "      <td>1.0</td>\n",
       "      <td>0.0</td>\n",
       "      <td>1.0</td>\n",
       "      <td>1.0</td>\n",
       "      <td>...</td>\n",
       "      <td>1.0</td>\n",
       "      <td>0.0</td>\n",
       "      <td>1.0</td>\n",
       "      <td>0.0</td>\n",
       "      <td>0.0</td>\n",
       "      <td>0.0</td>\n",
       "      <td>1.0</td>\n",
       "      <td>1.0</td>\n",
       "      <td>0.0</td>\n",
       "      <td>[3.0385594367980957, 0.587708055973053, 0.8335...</td>\n",
       "    </tr>\n",
       "  </tbody>\n",
       "</table>\n",
       "<p>5 rows × 59 columns</p>\n",
       "</div>"
      ],
      "text/plain": [
       "    drug1    drug2  class_00  class_01  class_02  class_03  class_04  \\\n",
       "0   55681  1243041       1.0       0.0       0.0       0.0       0.0   \n",
       "1  134547     6313       0.0       0.0       1.0       0.0       1.0   \n",
       "2    4094    47858       1.0       0.0       0.0       0.0       0.0   \n",
       "3    8627     3920       1.0       0.0       0.0       0.0       0.0   \n",
       "4  797195    41493       0.0       1.0       1.0       0.0       1.0   \n",
       "\n",
       "   class_05  class_06  class_07  ...  class_47  class_48  class_49  class_50  \\\n",
       "0       0.0       0.0       0.0  ...       0.0       0.0       0.0       0.0   \n",
       "1       0.0       1.0       0.0  ...       1.0       0.0       1.0       1.0   \n",
       "2       0.0       0.0       0.0  ...       0.0       0.0       0.0       0.0   \n",
       "3       0.0       0.0       0.0  ...       0.0       0.0       0.0       0.0   \n",
       "4       0.0       1.0       1.0  ...       1.0       0.0       1.0       0.0   \n",
       "\n",
       "   class_51  class_52  class_53  class_54  class_55  \\\n",
       "0       0.0       0.0       0.0       0.0       0.0   \n",
       "1       0.0       0.0       1.0       1.0       0.0   \n",
       "2       0.0       0.0       0.0       0.0       0.0   \n",
       "3       0.0       0.0       0.0       0.0       0.0   \n",
       "4       0.0       0.0       1.0       1.0       0.0   \n",
       "\n",
       "                                            embedded  \n",
       "0  [2.168276786804199, 1.0936528444290161, 0.9610...  \n",
       "1  [2.232297420501709, 0.9437393546104431, 0.0993...  \n",
       "2  [-0.5903611183166504, -1.876413106918335, 1.70...  \n",
       "3  [-0.37425464391708374, 1.5704320669174194, -0....  \n",
       "4  [3.0385594367980957, 0.587708055973053, 0.8335...  \n",
       "\n",
       "[5 rows x 59 columns]"
      ]
     },
     "execution_count": 5,
     "metadata": {},
     "output_type": "execute_result"
    }
   ],
   "source": [
    "with open('./Data/Embeddings/biobert_embeddings_128_pca.pkl', 'rb') as file:\n",
    "    biobert = pickle.load(file)    \n",
    "with open('./Data/Embeddings/chemberta_embeddings_128_pca.pkl', 'rb') as file:\n",
    "    chemberta = pickle.load(file)    \n",
    "with open('./Data/Embeddings/kg_bio2rdf_embeddings_128_pca.pkl', 'rb') as file:\n",
    "    bio2rdf = pickle.load(file)    \n",
    "with open('./Data/Embeddings/ssp_embeddings_128_pca.pkl', 'rb') as file:\n",
    "    ssp = pickle.load(file)    \n",
    "\n",
    "drugs = set(np.concatenate([\n",
    "    seen['drug1'].unique(), seen['drug2'].unique(), unseen['drug1'].unique(), unseen['drug2'].unique()\n",
    "]))\n",
    "embeddings = {}\n",
    "for rx_norm_id in list(drugs):\n",
    "    embeddings[rx_norm_id] = np.concatenate([\n",
    "        biobert[rx_norm_id], chemberta[rx_norm_id], bio2rdf[rx_norm_id], ssp[rx_norm_id]\n",
    "    ])\n",
    "\n",
    "seen['embedded'] = seen.apply(lambda x: pd.Series(\n",
    "    [np.concatenate([embeddings[x['drug1']], embeddings[x['drug2']]])], \n",
    "    index=['embedded']), axis=1)\n",
    "print('Seen shape:', seen.shape)\n",
    "unseen['embedded'] = unseen.apply(lambda x: pd.Series(\n",
    "    [np.concatenate([embeddings[x['drug1']], embeddings[x['drug2']]])], \n",
    "    index=['embedded']), axis=1)\n",
    "print('Unseen shape:', unseen.shape)\n",
    "seen.head()"
   ]
  },
  {
   "cell_type": "markdown",
   "id": "21186b1b",
   "metadata": {},
   "source": [
    "#### Load the First Level model and get values"
   ]
  },
  {
   "cell_type": "code",
   "execution_count": 19,
   "id": "d1de3463",
   "metadata": {},
   "outputs": [
    {
     "name": "stdout",
     "output_type": "stream",
     "text": [
      "\u001b[1m4849/4849\u001b[0m \u001b[32m━━━━━━━━━━━━━━━━━━━━\u001b[0m\u001b[37m\u001b[0m \u001b[1m22s\u001b[0m 4ms/step\n",
      "\u001b[1m3237/3237\u001b[0m \u001b[32m━━━━━━━━━━━━━━━━━━━━\u001b[0m\u001b[37m\u001b[0m \u001b[1m14s\u001b[0m 4ms/step\n"
     ]
    }
   ],
   "source": [
    "size = len(seen['embedded'][0])\n",
    "x_seen = np.concatenate(seen['embedded'].values).reshape(-1, size)\n",
    "x_unseen = np.concatenate(unseen['embedded'].values).reshape(-1, size)\n",
    "filename = 'TWOSIDES_00.pkl'\n",
    "with open(filename, 'rb') as file:\n",
    "    model = pickle.load(file)\n",
    "y_seen = model.predict(x_seen)\n",
    "y_unseen = model.predict(x_unseen)"
   ]
  },
  {
   "cell_type": "markdown",
   "id": "8a050395",
   "metadata": {},
   "source": [
    "#### Store values"
   ]
  },
  {
   "cell_type": "code",
   "execution_count": 7,
   "id": "d85f8261",
   "metadata": {},
   "outputs": [],
   "source": [
    "y_seen = pd.DataFrame(y_seen)\n",
    "for column in class_columns:\n",
    "    y_seen[column] = seen[column]\n",
    "y_seen.to_csv('./Data/C56_71_TWOSIDES_seen.csv', index=False)\n",
    "y_unseen = pd.DataFrame(y_unseen)\n",
    "for column in unseen_columns:\n",
    "    y_unseen[column] = unseen[column]\n",
    "y_unseen.to_csv('./Data/C56_71_TWOSIDES_unseen.csv', index=False)"
   ]
  },
  {
   "cell_type": "code",
   "execution_count": null,
   "id": "3d18e6bf",
   "metadata": {},
   "outputs": [],
   "source": []
  }
 ],
 "metadata": {
  "kernelspec": {
   "display_name": "Python 3 (ipykernel)",
   "language": "python",
   "name": "python3"
  },
  "language_info": {
   "codemirror_mode": {
    "name": "ipython",
    "version": 3
   },
   "file_extension": ".py",
   "mimetype": "text/x-python",
   "name": "python",
   "nbconvert_exporter": "python",
   "pygments_lexer": "ipython3",
   "version": "3.11.4"
  }
 },
 "nbformat": 4,
 "nbformat_minor": 5
}
